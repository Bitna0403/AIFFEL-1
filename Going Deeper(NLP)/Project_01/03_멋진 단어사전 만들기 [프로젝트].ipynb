{
 "cells": [
  {
   "cell_type": "code",
   "execution_count": 12,
   "id": "2048ed89",
   "metadata": {},
   "outputs": [],
   "source": [
    "# 라이브러리 import\n",
    "import os\n",
    "\n",
    "import matplotlib.pyplot as plt\n",
    "import tensorflow as tf\n",
    "import numpy as np\n",
    "\n",
    "%matplotlib inline"
   ]
  },
  {
   "cell_type": "markdown",
   "id": "7bf269fb",
   "metadata": {},
   "source": [
    "### Step 1. SentencePiece 설치하기"
   ]
  },
  {
   "cell_type": "markdown",
   "id": "aadb42b1",
   "metadata": {},
   "source": [
    "SentencePiece는 Google에서 제공하는 오픈소스 기반 Sentence Tokenizer/Detokenizer 로서, BPE와 unigram 2가지 subword 토크나이징 모델 중 하나를 선택해서 사용할 수 있도록 패키징한 것"
   ]
  },
  {
   "cell_type": "code",
   "execution_count": null,
   "id": "4b75ba80",
   "metadata": {},
   "outputs": [],
   "source": [
    "# ! pip install sentencepiece"
   ]
  },
  {
   "cell_type": "markdown",
   "id": "5934de2e",
   "metadata": {},
   "source": [
    "### Step 2. SentencePiece 모델 학습"
   ]
  },
  {
   "cell_type": "code",
   "execution_count": 3,
   "id": "7c20227b",
   "metadata": {},
   "outputs": [
    {
     "name": "stdout",
     "output_type": "stream",
     "text": [
      "Data Size: 94123\n",
      "Example:\n",
      ">> 개인용 컴퓨터 사용의 상당 부분은 \"이것보다 뛰어날 수 있느냐?\"\n",
      ">> 북한의 핵무기 계획을 포기하도록 하려는 압력이 거세지고 있는 가운데, 일본과 북한의 외교관들이 외교 관계를 정상화하려는 회담을 재개했다.\n",
      ">> \"경호 로보트가 침입자나 화재를 탐지하기 위해서 개인적으로, 그리고 전문적으로 사용되고 있습니다.\"\n",
      ">> 수자원부 당국은 논란이 되고 있고, 막대한 비용이 드는 이 사업에 대해 내년에 건설을 시작할 계획이다.\n",
      ">> 또한 근력 운동은 활발하게 걷는 것이나 최소한 20분 동안 뛰는 것과 같은 유산소 활동에서 얻는 운동 효과를 심장과 폐에 주지 않기 때문에, 연구학자들은 근력 운동이 심장에 큰 영향을 미치는지 여부에 대해 논쟁을 해왔다.\n"
     ]
    }
   ],
   "source": [
    "import os\n",
    "path_to_file = os.getenv('HOME')+'/aiffel/sp_tokenizer/data/korean-english-park.train.ko'\n",
    "\n",
    "with open(path_to_file, \"r\") as f:\n",
    "    raw = f.read().splitlines()\n",
    "\n",
    "print(\"Data Size:\", len(raw))\n",
    "\n",
    "print(\"Example:\")\n",
    "for sen in raw[0:100][::20]: print(\">>\", sen)"
   ]
  },
  {
   "cell_type": "markdown",
   "id": "7e4c5c08",
   "metadata": {},
   "source": [
    "- 데이터 사이즈는 94123개가 포함되어 있음\n",
    "- 문장의 길이를 확인하여 데이터를 얼마나 사용할지 결정"
   ]
  },
  {
   "cell_type": "code",
   "execution_count": 4,
   "id": "28fb309c",
   "metadata": {},
   "outputs": [
    {
     "name": "stdout",
     "output_type": "stream",
     "text": [
      "문장의 최단 길이: 1\n",
      "문장의 최장 길이: 377\n",
      "문장의 평균 길이: 60\n"
     ]
    },
    {
     "data": {
      "image/png": "[encoded data removed]",
      "text/plain": [
       "<Figure size 432x288 with 1 Axes>"
      ]
     },
     "metadata": {
      "needs_background": "light"
     },
     "output_type": "display_data"
    }
   ],
   "source": [
    "min_len = 999\n",
    "max_len = 0\n",
    "sum_len = 0\n",
    "\n",
    "for sen in raw:\n",
    "    length = len(sen)\n",
    "    if min_len > length: min_len = length\n",
    "    if max_len < length: max_len = length\n",
    "    sum_len += length\n",
    "\n",
    "print(\"문장의 최단 길이:\", min_len)\n",
    "print(\"문장의 최장 길이:\", max_len)\n",
    "print(\"문장의 평균 길이:\", sum_len // len(raw))\n",
    "\n",
    "sentence_length = np.zeros((max_len), dtype=int)\n",
    "\n",
    "for sen in raw:\n",
    "    sentence_length[len(sen)-1] += 1\n",
    "\n",
    "plt.bar(range(max_len), sentence_length, width=1.0)\n",
    "plt.title(\"Sentence Length Distribution\")\n",
    "plt.show()"
   ]
  },
  {
   "cell_type": "code",
   "execution_count": 5,
   "id": "12ae8614",
   "metadata": {},
   "outputs": [
    {
     "name": "stdout",
     "output_type": "stream",
     "text": [
      "’\n"
     ]
    }
   ],
   "source": [
    "def check_sentence_with_length(raw, length):\n",
    "    count = 0\n",
    "    \n",
    "    for sen in raw:\n",
    "        if len(sen) == length:\n",
    "            print(sen)\n",
    "            count += 1\n",
    "            if count > 100: return\n",
    "\n",
    "check_sentence_with_length(raw, 1)"
   ]
  },
  {
   "cell_type": "markdown",
   "id": "09e3b8ec",
   "metadata": {},
   "source": [
    "- 길이 1 짜리 문장은 노이즈 데이터\n",
    "- 추가 확인 진행"
   ]
  },
  {
   "cell_type": "code",
   "execution_count": 6,
   "id": "829bb9a7",
   "metadata": {},
   "outputs": [
    {
     "name": "stdout",
     "output_type": "stream",
     "text": [
      "Outlier Index: 11\n",
      "Outlier Index: 19\n",
      "Outlier Index: 21\n"
     ]
    }
   ],
   "source": [
    "for idx, _sum in enumerate(sentence_length):\n",
    "    # 문장의 수가 1500을 초과하는 문장 길이를 추출합니다.\n",
    "    if _sum > 1500:\n",
    "        print(\"Outlier Index:\", idx+1)"
   ]
  },
  {
   "cell_type": "code",
   "execution_count": 7,
   "id": "f2a7d649",
   "metadata": {},
   "outputs": [
    {
     "name": "stdout",
     "output_type": "stream",
     "text": [
      "라고 조던이 말했다.\n",
      "- 모르고 있습니다.\n",
      "- 네, 보이는군요.\n",
      "디즈니사만이 아니다.\n",
      "큰 파티는 아니지요.\n",
      "의자는 비어 있었다.\n",
      "이 일은 계속됩니다.\n",
      "나는 크게 실망했다.\n",
      "그 이유는 간단하다.\n",
      "이력서와 자기 소개서\n",
      "시대가 변하고 있다.\n",
      "는 돌발질문을 했다.\n",
      "9. 몇 분간의 명상\n",
      "하와이, 빅 아일랜드\n",
      "키스를 잘 하는 방법\n",
      "키스를 잘 하는 방법\n",
      "스피어스가 뚱뚱한가?\n",
      "산 위를 나는 느낌.\n",
      "세 시간쯤 걸었을까?\n",
      "(아직 읽고있습니까?\n",
      "처음에는 장난이었다.\n",
      "우리는 운이 좋았다.\n",
      "아기가 숨을 멈출 때\n",
      "건물 전체 무너져내려\n",
      "그녀의 아름다운 눈.\n",
      "대답은 다음과 같다.\n",
      "\"사과할 것이 없다.\n",
      "폭탄테러가 공포 유발\n",
      "그는 \"잘 모르겠다.\n",
      "그는 \"잘 모르겠다.\n",
      "그는 \"잘 모르겠다.\n",
      "그는 \"잘 모르겠다.\n",
      "그는 \"잘 모르겠다.\n",
      "그는 \"잘 모르겠다.\n",
      "그는 \"잘 모르겠다.\n",
      "그는 \"잘 모르겠다.\n",
      "그는 \"잘 모르겠다.\n",
      "케냐 야생동물 고아원\n",
      "경유 1200원대로…\n",
      "더 내려야 하는 이유\n",
      "케냐 야생동물 고아원\n",
      "경유 1200원대로…\n",
      "더 내려야 하는 이유\n",
      "케냐 야생동물 고아원\n",
      "경유 1200원대로…\n",
      "더 내려야 하는 이유\n",
      "케냐 야생동물 고아원\n",
      "경유 1200원대로…\n",
      "더 내려야 하는 이유\n",
      "케냐 야생동물 고아원\n",
      "경유 1200원대로…\n",
      "더 내려야 하는 이유\n",
      "케냐 야생동물 고아원\n",
      "경유 1200원대로…\n",
      "더 내려야 하는 이유\n",
      "케냐 야생동물 고아원\n",
      "경유 1200원대로…\n",
      "더 내려야 하는 이유\n",
      "케냐 야생동물 고아원\n",
      "경유 1200원대로…\n",
      "더 내려야 하는 이유\n",
      "케냐 야생동물 고아원\n",
      "경유 1200원대로…\n",
      "더 내려야 하는 이유\n",
      "케냐 야생동물 고아원\n",
      "경유 1200원대로…\n",
      "더 내려야 하는 이유\n",
      "케냐 야생동물 고아원\n",
      "경유 1200원대로…\n",
      "더 내려야 하는 이유\n",
      "케냐 야생동물 고아원\n",
      "경유 1200원대로…\n",
      "더 내려야 하는 이유\n",
      "케냐 야생동물 고아원\n",
      "경유 1200원대로…\n",
      "더 내려야 하는 이유\n",
      "케냐 야생동물 고아원\n",
      "경유 1200원대로…\n",
      "더 내려야 하는 이유\n",
      "케냐 야생동물 고아원\n",
      "경유 1200원대로…\n",
      "더 내려야 하는 이유\n",
      "케냐 야생동물 고아원\n",
      "경유 1200원대로…\n",
      "더 내려야 하는 이유\n",
      "케냐 야생동물 고아원\n",
      "경유 1200원대로…\n",
      "더 내려야 하는 이유\n",
      "케냐 야생동물 고아원\n",
      "경유 1200원대로…\n",
      "더 내려야 하는 이유\n",
      "케냐 야생동물 고아원\n",
      "경유 1200원대로…\n",
      "더 내려야 하는 이유\n",
      "케냐 야생동물 고아원\n",
      "경유 1200원대로…\n",
      "더 내려야 하는 이유\n",
      "조금은 새침한 샬롯？\n",
      "조금은 새침한 샬롯？\n",
      "케냐 야생동물 고아원\n",
      "경유 1200원대로…\n"
     ]
    }
   ],
   "source": [
    "check_sentence_with_length(raw, 11)"
   ]
  },
  {
   "cell_type": "markdown",
   "id": "c4132ea6",
   "metadata": {},
   "source": [
    "- 중복에 대한 처리가 안되어 있는 것을 확인\n",
    "- set을 이용해서 중복된 요소 제거"
   ]
  },
  {
   "cell_type": "code",
   "execution_count": 8,
   "id": "6b4730f8",
   "metadata": {},
   "outputs": [
    {
     "name": "stdout",
     "output_type": "stream",
     "text": [
      "Data Size: 77591\n",
      "문장의 최단 길이: 1\n",
      "문장의 최장 길이: 377\n",
      "문장의 평균 길이: 64\n"
     ]
    },
    {
     "data": {
      "image/png": "[encoded data removed]",
      "text/plain": [
       "<Figure size 432x288 with 1 Axes>"
      ]
     },
     "metadata": {
      "needs_background": "light"
     },
     "output_type": "display_data"
    }
   ],
   "source": [
    "min_len = 999\n",
    "max_len = 0\n",
    "sum_len = 0\n",
    "\n",
    "cleaned_corpus = list(set(raw))  # set를 사용해서 중복을 제거합니다.\n",
    "print(\"Data Size:\", len(cleaned_corpus))\n",
    "\n",
    "for sen in cleaned_corpus:\n",
    "    length = len(sen)\n",
    "    if min_len > length: min_len = length\n",
    "    if max_len < length: max_len = length\n",
    "    sum_len += length\n",
    "\n",
    "print(\"문장의 최단 길이:\", min_len)\n",
    "print(\"문장의 최장 길이:\", max_len)\n",
    "print(\"문장의 평균 길이:\", sum_len // len(cleaned_corpus))\n",
    "\n",
    "sentence_length = np.zeros((max_len), dtype=int)\n",
    "\n",
    "for sen in cleaned_corpus:   # 중복이 제거된 코퍼스 기준\n",
    "    sentence_length[len(sen)-1] += 1\n",
    "\n",
    "plt.bar(range(max_len), sentence_length, width=1.0)\n",
    "plt.title(\"Sentence Length Distribution\")\n",
    "plt.show()"
   ]
  },
  {
   "cell_type": "markdown",
   "id": "7e9e4330",
   "metadata": {},
   "source": [
    "- 데이터의 개수가 17000개 가량 줄어 77591개가 되었음\n",
    "- 후에 미니 배치를 만들 것을 생각하면 가장 긴 데이터를 기준으로 padding처리해야 해서 연산 측면에서 비효율적\n",
    "- 길이 10 미만 데이터는 제거"
   ]
  },
  {
   "cell_type": "code",
   "execution_count": 9,
   "id": "94bae437",
   "metadata": {},
   "outputs": [
    {
     "data": {
      "image/png": "[encoded data removed]",
      "text/plain": [
       "<Figure size 432x288 with 1 Axes>"
      ]
     },
     "metadata": {
      "needs_background": "light"
     },
     "output_type": "display_data"
    }
   ],
   "source": [
    "max_len = 150\n",
    "min_len = 10\n",
    "\n",
    "# 길이 조건에 맞는 문장만 선택합니다.\n",
    "filtered_corpus = [s for s in cleaned_corpus if (len(s) < max_len) & (len(s) >= min_len)]\n",
    "\n",
    "# 분포도를 다시 그려봅니다.\n",
    "sentence_length = np.zeros((max_len), dtype=int)\n",
    "\n",
    "for sen in filtered_corpus:\n",
    "    sentence_length[len(sen)-1] += 1\n",
    "\n",
    "plt.bar(range(max_len), sentence_length, width=1.0)\n",
    "plt.title(\"Sentence Length Distribution\")\n",
    "plt.show()"
   ]
  },
  {
   "cell_type": "markdown",
   "id": "60b332b2",
   "metadata": {},
   "source": [
    "### 공백 기반 토큰화\n",
    "- 정제된 데이터 filtered_corpus를 공백 기반으로 토큰화하여 리스트 split_corpus에 저장한 후, 아래 tokenize() 함수를 사용해 단어 사전과 Tensor 데이터를 얻음\n",
    "- 단어 사전의 크기 확인"
   ]
  },
  {
   "cell_type": "code",
   "execution_count": 10,
   "id": "ac02fffa",
   "metadata": {},
   "outputs": [],
   "source": [
    "def tokenize(corpus):  # corpus: Tokenized Sentence's List\n",
    "    tokenizer = tf.keras.preprocessing.text.Tokenizer(filters='')\n",
    "    tokenizer.fit_on_texts(corpus)\n",
    "\n",
    "    tensor = tokenizer.texts_to_sequences(corpus)\n",
    "\n",
    "    tensor = tf.keras.preprocessing.sequence.pad_sequences(tensor, padding='post')\n",
    "\n",
    "    return tensor, tokenizer"
   ]
  },
  {
   "cell_type": "code",
   "execution_count": 11,
   "id": "c0d2da7f",
   "metadata": {},
   "outputs": [],
   "source": [
    "# 정제된 데이터 filtered_corpus를 공백 기반으로 토큰화하여 저장하는 코드를 직접 작성해 보세요.\n",
    "split_corpus = []\n",
    "\n",
    "for kor in filtered_corpus:\n",
    "    split_corpus.append(kor.split())"
   ]
  },
  {
   "cell_type": "code",
   "execution_count": 15,
   "id": "291d2716",
   "metadata": {},
   "outputs": [
    {
     "name": "stderr",
     "output_type": "stream",
     "text": [
      "sentencepiece_trainer.cc(177) LOG(INFO) Running command: --input=/aiffel/aiffel/sp_tokenizer/data/korean-english-park.train.ko.temp --model_prefix=korean_spm --vocab_size=8000\n",
      "sentencepiece_trainer.cc(77) LOG(INFO) Starts training with : \n",
      "trainer_spec {\n",
      "  input: /aiffel/aiffel/sp_tokenizer/data/korean-english-park.train.ko.temp\n",
      "  input_format: \n",
      "  model_prefix: korean_spm\n",
      "  model_type: UNIGRAM\n",
      "  vocab_size: 8000\n",
      "  self_test_sample_size: 0\n",
      "  character_coverage: 0.9995\n",
      "  input_sentence_size: 0\n",
      "  shuffle_input_sentence: 1\n",
      "  seed_sentencepiece_size: 1000000\n",
      "  shrinking_factor: 0.75\n",
      "  max_sentence_length: 4192\n",
      "  num_threads: 16\n",
      "  num_sub_iterations: 2\n",
      "  max_sentencepiece_length: 16\n",
      "  split_by_unicode_script: 1\n",
      "  split_by_number: 1\n",
      "  split_by_whitespace: 1\n",
      "  split_digits: 0\n",
      "  treat_whitespace_as_suffix: 0\n",
      "  allow_whitespace_only_pieces: 0\n",
      "  required_chars: \n",
      "  byte_fallback: 0\n",
      "  vocabulary_output_piece_score: 1\n",
      "  train_extremely_large_corpus: 0\n",
      "  hard_vocab_limit: 1\n",
      "  use_all_vocab: 0\n",
      "  unk_id: 0\n",
      "  bos_id: 1\n",
      "  eos_id: 2\n",
      "  pad_id: -1\n",
      "  unk_piece: <unk>\n",
      "  bos_piece: <s>\n",
      "  eos_piece: </s>\n",
      "  pad_piece: <pad>\n",
      "  unk_surface:  ⁇ \n",
      "}\n",
      "normalizer_spec {\n",
      "  name: nmt_nfkc\n",
      "  add_dummy_prefix: 1\n",
      "  remove_extra_whitespaces: 1\n",
      "  escape_whitespaces: 1\n",
      "  normalization_rule_tsv: \n",
      "}\n",
      "denormalizer_spec {}\n",
      "trainer_interface.cc(329) LOG(INFO) SentenceIterator is not specified. Using MultiFileSentenceIterator.\n",
      "trainer_interface.cc(178) LOG(INFO) Loading corpus: /aiffel/aiffel/sp_tokenizer/data/korean-english-park.train.ko.temp\n",
      "trainer_interface.cc(385) LOG(INFO) Loaded all 76908 sentences\n",
      "trainer_interface.cc(400) LOG(INFO) Adding meta_piece: <unk>\n",
      "trainer_interface.cc(400) LOG(INFO) Adding meta_piece: <s>\n",
      "trainer_interface.cc(400) LOG(INFO) Adding meta_piece: </s>\n",
      "trainer_interface.cc(405) LOG(INFO) Normalizing sentences...\n",
      "trainer_interface.cc(466) LOG(INFO) all chars count=4996369\n",
      "trainer_interface.cc(477) LOG(INFO) Done: 99.95% characters are covered.\n",
      "trainer_interface.cc(487) LOG(INFO) Alphabet size=1317\n",
      "trainer_interface.cc(488) LOG(INFO) Final character coverage=0.9995\n",
      "trainer_interface.cc(520) LOG(INFO) Done! preprocessed 76908 sentences.\n",
      "unigram_model_trainer.cc(139) LOG(INFO) Making suffix array...\n",
      "unigram_model_trainer.cc(143) LOG(INFO) Extracting frequent sub strings...\n",
      "unigram_model_trainer.cc(194) LOG(INFO) Initialized 174340 seed sentencepieces\n",
      "trainer_interface.cc(526) LOG(INFO) Tokenizing input sentences with whitespace: 76908\n",
      "trainer_interface.cc(537) LOG(INFO) Done! 237965\n",
      "unigram_model_trainer.cc(489) LOG(INFO) Using 237965 sentences for EM training\n",
      "unigram_model_trainer.cc(505) LOG(INFO) EM sub_iter=0 size=92555 obj=14.853 num_tokens=523272 num_tokens/piece=5.65363\n",
      "unigram_model_trainer.cc(505) LOG(INFO) EM sub_iter=1 size=82083 obj=13.516 num_tokens=525776 num_tokens/piece=6.40542\n",
      "unigram_model_trainer.cc(505) LOG(INFO) EM sub_iter=0 size=61555 obj=13.5533 num_tokens=546907 num_tokens/piece=8.88485\n",
      "unigram_model_trainer.cc(505) LOG(INFO) EM sub_iter=1 size=61506 obj=13.5101 num_tokens=547350 num_tokens/piece=8.89913\n",
      "unigram_model_trainer.cc(505) LOG(INFO) EM sub_iter=0 size=46126 obj=13.6926 num_tokens=575369 num_tokens/piece=12.4739\n",
      "unigram_model_trainer.cc(505) LOG(INFO) EM sub_iter=1 size=46126 obj=13.6493 num_tokens=575466 num_tokens/piece=12.476\n",
      "unigram_model_trainer.cc(505) LOG(INFO) EM sub_iter=0 size=34594 obj=13.8894 num_tokens=606014 num_tokens/piece=17.5179\n",
      "unigram_model_trainer.cc(505) LOG(INFO) EM sub_iter=1 size=34594 obj=13.8387 num_tokens=606012 num_tokens/piece=17.5178\n",
      "unigram_model_trainer.cc(505) LOG(INFO) EM sub_iter=0 size=25945 obj=14.1301 num_tokens=637532 num_tokens/piece=24.5724\n",
      "unigram_model_trainer.cc(505) LOG(INFO) EM sub_iter=1 size=25945 obj=14.0747 num_tokens=637568 num_tokens/piece=24.5738\n",
      "unigram_model_trainer.cc(505) LOG(INFO) EM sub_iter=0 size=19458 obj=14.4091 num_tokens=670960 num_tokens/piece=34.4825\n",
      "unigram_model_trainer.cc(505) LOG(INFO) EM sub_iter=1 size=19458 obj=14.3468 num_tokens=670999 num_tokens/piece=34.4845\n",
      "unigram_model_trainer.cc(505) LOG(INFO) EM sub_iter=0 size=14593 obj=14.7196 num_tokens=705636 num_tokens/piece=48.3544\n",
      "unigram_model_trainer.cc(505) LOG(INFO) EM sub_iter=1 size=14593 obj=14.648 num_tokens=705645 num_tokens/piece=48.355\n",
      "unigram_model_trainer.cc(505) LOG(INFO) EM sub_iter=0 size=10944 obj=15.0875 num_tokens=741620 num_tokens/piece=67.765\n",
      "unigram_model_trainer.cc(505) LOG(INFO) EM sub_iter=1 size=10944 obj=15.007 num_tokens=741624 num_tokens/piece=67.7654\n",
      "unigram_model_trainer.cc(505) LOG(INFO) EM sub_iter=0 size=8800 obj=15.3757 num_tokens=769363 num_tokens/piece=87.4276\n",
      "unigram_model_trainer.cc(505) LOG(INFO) EM sub_iter=1 size=8800 obj=15.307 num_tokens=769367 num_tokens/piece=87.4281\n",
      "trainer_interface.cc(615) LOG(INFO) Saving model: korean_spm.model\n",
      "trainer_interface.cc(626) LOG(INFO) Saving vocabs: korean_spm.vocab\n"
     ]
    },
    {
     "name": "stdout",
     "output_type": "stream",
     "text": [
      "-rw-r--r-- 1 root root 376816 Dec 27 02:39 korean_spm.model\r\n",
      "-rw-r--r-- 1 root root 146213 Dec 27 02:39 korean_spm.vocab\r\n"
     ]
    }
   ],
   "source": [
    "import sentencepiece as spm\n",
    "import os\n",
    "temp_file = os.getenv('HOME')+'/aiffel/sp_tokenizer/data/korean-english-park.train.ko.temp'\n",
    "\n",
    "vocab_size = 8000\n",
    "\n",
    "with open(temp_file, 'w') as f:\n",
    "    for row in filtered_corpus:   # 이전에 나왔던 정제했던 corpus를 활용해서 진행해야 합니다.\n",
    "        f.write(str(row) + '\\n')\n",
    "\n",
    "spm.SentencePieceTrainer.Train(\n",
    "    '--input={} --model_prefix=korean_spm --vocab_size={}'.format(temp_file, vocab_size)    \n",
    ")\n",
    "#위 Train에서  --model_type = unigram이 디폴트 적용되어 있습니다. --model_type = bpe로 옵션을 주어 변경할 수 있습니다.\n",
    "\n",
    "!ls -l korean_spm*"
   ]
  },
  {
   "cell_type": "code",
   "execution_count": 16,
   "id": "48e84a55",
   "metadata": {},
   "outputs": [
    {
     "name": "stdout",
     "output_type": "stream",
     "text": [
      "[1243, 11, 302, 7, 3608, 11, 287, 38, 3]\n",
      "['▁아버지', '가', '방', '에', '들어', '가', '신', '다', '.']\n",
      "아버지가방에들어가신다.\n"
     ]
    }
   ],
   "source": [
    "s = spm.SentencePieceProcessor()\n",
    "s.Load('korean_spm.model')\n",
    "\n",
    "# SentencePiece를 활용한 sentence -> encoding\n",
    "tokensIDs = s.EncodeAsIds('아버지가방에들어가신다.')\n",
    "print(tokensIDs)\n",
    "\n",
    "# SentencePiece를 활용한 sentence -> encoded pieces\n",
    "print(s.SampleEncodeAsPieces('아버지가방에들어가신다.',1, 0.0))\n",
    "\n",
    "# SentencePiece를 활용한 encoding -> sentence 복원\n",
    "print(s.DecodeIds(tokensIDs))"
   ]
  },
  {
   "cell_type": "markdown",
   "id": "3073adfe",
   "metadata": {},
   "source": [
    "### 형태소 기반 토큰화\n",
    "\n",
    "- 한국어 형태소 분석기는 대표적으로 Khaiii와 KoNLPy가 사용됨 \n",
    "\n",
    "- KoNLPy 중 가장 성능이 준수한 MeCab클래스를 활용"
   ]
  },
  {
   "cell_type": "code",
   "execution_count": 15,
   "id": "9268e3b0",
   "metadata": {},
   "outputs": [],
   "source": [
    "# mecab.morphs()를 사용해서 형태소분석을 합니다.\n",
    "def mecab_split(sentence):\n",
    "    return mecab.morphs(sentence)\n",
    "\n",
    "mecab_corpus = []\n",
    "\n",
    "for kor in filtered_corpus:\n",
    "    mecab_corpus.append(mecab_split(kor))"
   ]
  },
  {
   "cell_type": "code",
   "execution_count": 16,
   "id": "64dbedd3",
   "metadata": {},
   "outputs": [
    {
     "name": "stdout",
     "output_type": "stream",
     "text": [
      "MeCab Vocab Size: 52279\n"
     ]
    }
   ],
   "source": [
    "mecab_tensor, mecab_tokenizer = tokenize(mecab_corpus)\n",
    "\n",
    "print(\"MeCab Vocab Size:\", len(mecab_tokenizer.index_word))"
   ]
  },
  {
   "cell_type": "markdown",
   "id": "0a5688e7",
   "metadata": {},
   "source": [
    "- 공백 기반 단어 사전에 비해 단어 수가 현저히 줄어든 것을 확인\n",
    "- 단어 수 감소는 연산량의 감소로 이어져 더 빠른 학습을 가능케 하고, \n",
    "- 모델이 튜닝해야 하는 매개변수(Parameter) 수가 줄어들어 학습도 더 잘 됨\n",
    "- 한국어 처리할 때는 공백 기반 토큰화를 절대 지양해야 함"
   ]
  },
  {
   "cell_type": "markdown",
   "id": "46415c72",
   "metadata": {},
   "source": [
    "- 모델이 생성한 Tensor를 문장으로 Decoding하는 과정\n",
    "    - tokenizer.sequences_to_texts() 함수를 사용하여 Decoding\n",
    "    - tokenizer.index_word 를 사용하여 Decoding\n",
    "- mecab_tensor[100] 을 원문으로 되돌려 봄"
   ]
  },
  {
   "cell_type": "code",
   "execution_count": 17,
   "id": "be59d693",
   "metadata": {},
   "outputs": [
    {
     "name": "stdout",
     "output_type": "stream",
     "text": [
      "상담 을 위해 누구 를 직접 만나 서 문의 하 지 않 아도 되 고 상담 해 주 는 사람 들 의 견해 가 어떻 든 이 에 대해 불안해할 필요 도 없 다 .\n"
     ]
    }
   ],
   "source": [
    "texts = mecab_tokenizer.sequences_to_texts([mecab_tensor[100]])\n",
    "print(texts[0])"
   ]
  },
  {
   "cell_type": "code",
   "execution_count": 18,
   "id": "4c860b91",
   "metadata": {},
   "outputs": [
    {
     "name": "stdout",
     "output_type": "stream",
     "text": [
      "상담 을 위해 누구 를 직접 만나 서 문의 하 지 않 아도 되 고 상담 해 주 는 사람 들 의 견해 가 어떻 든 이 에 대해 불안해할 필요 도 없 다 . \n"
     ]
    }
   ],
   "source": [
    "sentence = \"\"\n",
    "\n",
    "for w in mecab_tensor[100]:\n",
    "    if w == 0: continue\n",
    "    sentence += mecab_tokenizer.index_word[w] + \" \"\n",
    "\n",
    "print(sentence)"
   ]
  },
  {
   "cell_type": "markdown",
   "id": "6cec182c",
   "metadata": {},
   "source": [
    "### Step 3. Tokenizer 함수 작성\n",
    "-  훈련시킨 SentencePiece를 활용하여 위 함수와 유사한 기능을 하는 sp_tokenize() 함수를 정의\n",
    "\n",
    "    1. 매개변수로 토큰화된 문장의 list를 전달하는 대신 온전한 문장의 list 를 전달\n",
    "\n",
    "    2. 생성된 vocab 파일을 읽어와 { <word> : <idx> } 형태를 가지는 word_index 사전과 { <idx> : <word>} 형태를 가지는 index_word 사전을 생성하고 함께 반환\n",
    "\n",
    "    3. 리턴값인 tensor 는 앞의 함수와 동일하게 토큰화한 후 Encoding된 문장입니다. 바로 학습에 사용할 수 있게 Padding 적용"
   ]
  },
  {
   "cell_type": "code",
   "execution_count": null,
   "id": "573c5a29",
   "metadata": {},
   "outputs": [],
   "source": [
    "def sp_tokenize(s, corpus): \n",
    "\n",
    "    tensor = []\n",
    "\n",
    "    for sen in corpus:\n",
    "        tensor.append(s.EncodeAsIds(sen))\n",
    "\n",
    "    with open(\"./korean_spm.vocab\", 'r') as f:\n",
    "        vocab = f.readlines()\n",
    "\n",
    "    word_index = {}\n",
    "    index_word = {}\n",
    "\n",
    "    for idx, line in enumerate(vocab):\n",
    "        word = line.split(\"\\t\")[0]\n",
    "\n",
    "        word_index.update({word:idx})\n",
    "        index_word.update({idx:word})\n",
    "\n",
    "    tensor = tf.keras.preprocessing.sequence.pad_sequences(tensor, padding='post')\n",
    "\n",
    "    return tensor, word_index, index_word"
   ]
  },
  {
   "cell_type": "markdown",
   "id": "95c5c20a",
   "metadata": {},
   "source": [
    "  "
   ]
  },
  {
   "cell_type": "markdown",
   "id": "5a9387a4",
   "metadata": {},
   "source": [
    "### Step 4. 네이버 영화리뷰 감정 분석 문제에 SentencePiece 적용해 보기"
   ]
  },
  {
   "cell_type": "markdown",
   "id": "d7424bea",
   "metadata": {},
   "source": [
    "**네이버 영화 리뷰 데이터 다운로드**"
   ]
  },
  {
   "cell_type": "code",
   "execution_count": null,
   "id": "d76085ed",
   "metadata": {},
   "outputs": [],
   "source": [
    "import urllib.request\n",
    "\n",
    "urllib.request.urlretrieve(\"https://raw.githubusercontent.com/e9t/nsmc/master/ratings_train.txt\", filename=\"ratings_train.txt\")\n",
    "urllib.request.urlretrieve(\"https://raw.githubusercontent.com/e9t/nsmc/master/ratings_test.txt\", filename=\"ratings_test.txt\")"
   ]
  },
  {
   "cell_type": "markdown",
   "id": "8698c4d6",
   "metadata": {},
   "source": [
    "**네이버 영화 리뷰 데이터 읽기**"
   ]
  },
  {
   "cell_type": "code",
   "execution_count": 49,
   "id": "859e38f1",
   "metadata": {},
   "outputs": [],
   "source": [
    "import pandas as pd\n",
    "train_data = pd.read_table('ratings_train.txt')\n",
    "test_data = pd.read_table('ratings_test.txt')"
   ]
  },
  {
   "cell_type": "code",
   "execution_count": 97,
   "id": "9655229e",
   "metadata": {
    "scrolled": true
   },
   "outputs": [
    {
     "name": "stdout",
     "output_type": "stream",
     "text": [
      "훈련용 리뷰 개수 : 146182\n",
      "test 데이터 사이즈: 49157\n"
     ]
    }
   ],
   "source": [
    "print('훈련용 리뷰 개수 :',len(train_data)) # 훈련용 리뷰 개수 출력\n",
    "print('test 데이터 사이즈:', len(test_data)) # 테스트용 리뷰 개수 출력"
   ]
  },
  {
   "cell_type": "code",
   "execution_count": 98,
   "id": "62fca1b6",
   "metadata": {
    "scrolled": true
   },
   "outputs": [
    {
     "data": {
      "text/html": [
       "<div>\n",
       "<style scoped>\n",
       "    .dataframe tbody tr th:only-of-type {\n",
       "        vertical-align: middle;\n",
       "    }\n",
       "\n",
       "    .dataframe tbody tr th {\n",
       "        vertical-align: top;\n",
       "    }\n",
       "\n",
       "    .dataframe thead th {\n",
       "        text-align: right;\n",
       "    }\n",
       "</style>\n",
       "<table border=\"1\" class=\"dataframe\">\n",
       "  <thead>\n",
       "    <tr style=\"text-align: right;\">\n",
       "      <th></th>\n",
       "      <th>id</th>\n",
       "      <th>document</th>\n",
       "      <th>label</th>\n",
       "    </tr>\n",
       "  </thead>\n",
       "  <tbody>\n",
       "    <tr>\n",
       "      <th>0</th>\n",
       "      <td>9976970</td>\n",
       "      <td>아 더빙.. 진짜 짜증나네요 목소리</td>\n",
       "      <td>0</td>\n",
       "    </tr>\n",
       "    <tr>\n",
       "      <th>1</th>\n",
       "      <td>3819312</td>\n",
       "      <td>흠...포스터보고 초딩영화줄....오버연기조차 가볍지 않구나</td>\n",
       "      <td>1</td>\n",
       "    </tr>\n",
       "    <tr>\n",
       "      <th>2</th>\n",
       "      <td>10265843</td>\n",
       "      <td>너무재밓었다그래서보는것을추천한다</td>\n",
       "      <td>0</td>\n",
       "    </tr>\n",
       "    <tr>\n",
       "      <th>3</th>\n",
       "      <td>9045019</td>\n",
       "      <td>교도소 이야기구먼 ..솔직히 재미는 없다..평점 조정</td>\n",
       "      <td>0</td>\n",
       "    </tr>\n",
       "    <tr>\n",
       "      <th>4</th>\n",
       "      <td>6483659</td>\n",
       "      <td>사이몬페그의 익살스런 연기가 돋보였던 영화!스파이더맨에서 늙어보이기만 했던 커스틴 ...</td>\n",
       "      <td>1</td>\n",
       "    </tr>\n",
       "  </tbody>\n",
       "</table>\n",
       "</div>"
      ],
      "text/plain": [
       "         id                                           document  label\n",
       "0   9976970                                아 더빙.. 진짜 짜증나네요 목소리      0\n",
       "1   3819312                  흠...포스터보고 초딩영화줄....오버연기조차 가볍지 않구나      1\n",
       "2  10265843                                  너무재밓었다그래서보는것을추천한다      0\n",
       "3   9045019                      교도소 이야기구먼 ..솔직히 재미는 없다..평점 조정      0\n",
       "4   6483659  사이몬페그의 익살스런 연기가 돋보였던 영화!스파이더맨에서 늙어보이기만 했던 커스틴 ...      1"
      ]
     },
     "execution_count": 98,
     "metadata": {},
     "output_type": "execute_result"
    }
   ],
   "source": [
    "train_data[:5] # 상위 5개 출력"
   ]
  },
  {
   "cell_type": "markdown",
   "id": "9935358e",
   "metadata": {},
   "source": [
    "**네이버 영화 리뷰 데이터 전처리**"
   ]
  },
  {
   "cell_type": "code",
   "execution_count": 99,
   "id": "404aa086",
   "metadata": {},
   "outputs": [
    {
     "name": "stdout",
     "output_type": "stream",
     "text": [
      "False\n"
     ]
    }
   ],
   "source": [
    "# NULL 값 확인\n",
    "print(train_data.isnull().values.any())"
   ]
  },
  {
   "cell_type": "code",
   "execution_count": 100,
   "id": "d8cf7fa0",
   "metadata": {},
   "outputs": [
    {
     "name": "stdout",
     "output_type": "stream",
     "text": [
      "id: 한글 이외의 문자가 존재합니다.\n",
      "document: 한글 이외의 문자가 존재합니다.\n",
      "label: 한글 이외의 문자가 존재합니다.\n"
     ]
    }
   ],
   "source": [
    "import re \n",
    "\n",
    "def has_non_korean_in_column(column):\n",
    "    # 정규표현식을 사용하여 한글 이외의 문자 판별\n",
    "    non_korean_pattern = re.compile('[^ㄱ-ㅎㅏ-ㅣ가-힣]+')\n",
    "\n",
    "    for text in column:\n",
    "        if pd.notna(text) and non_korean_pattern.search(str(text)):\n",
    "            return True  # 한글 이외의 문자가 발견되면 True 반환\n",
    "\n",
    "    return False  # 모든 텍스트가 한글이거나 null인 경우 False 반환\n",
    "\n",
    "\n",
    "# 각 열에 대해 확인\n",
    "for column in train_data.columns:\n",
    "    if has_non_korean_in_column(train_data[column]):\n",
    "        print(f\"{column}: 한글 이외의 문자가 존재합니다.\")\n",
    "    else:\n",
    "        print(f\"{column}: 모든 텍스트는 한글입니다.\")    "
   ]
  },
  {
   "cell_type": "code",
   "execution_count": 101,
   "id": "9523a7d5",
   "metadata": {},
   "outputs": [
    {
     "name": "stderr",
     "output_type": "stream",
     "text": [
      "/tmp/ipykernel_1779/1812058932.py:2: FutureWarning: The default value of regex will change from True to False in a future version.\n",
      "  train_data['document'] = train_data['document'].str.replace(\"[^ㄱ-ㅎㅏ-ㅣ가-힣 ]\",\"\")\n",
      "/tmp/ipykernel_1779/1812058932.py:3: FutureWarning: The default value of regex will change from True to False in a future version.\n",
      "  test_data['document'] = test_data['document'].str.replace(\"[^ㄱ-ㅎㅏ-ㅣ가-힣 ]\",\"\")\n"
     ]
    }
   ],
   "source": [
    "# 정규 표현식을 통한 한글 외 문자 제거\n",
    "train_data['document'] = train_data['document'].str.replace(\"[^ㄱ-ㅎㅏ-ㅣ가-힣 ]\",\"\")\n",
    "test_data['document'] = test_data['document'].str.replace(\"[^ㄱ-ㅎㅏ-ㅣ가-힣 ]\",\"\")"
   ]
  },
  {
   "cell_type": "code",
   "execution_count": 102,
   "id": "a13b9d32",
   "metadata": {
    "scrolled": false
   },
   "outputs": [
    {
     "name": "stdout",
     "output_type": "stream",
     "text": [
      "train 데이터 사이즈: 143682\n",
      "test 데이터 사이즈: 48418\n"
     ]
    }
   ],
   "source": [
    "train_data.drop_duplicates(subset=['document'], inplace=True)\n",
    "train_data = train_data.dropna(how = 'any') \n",
    "test_data.drop_duplicates(subset=['document'], inplace=True)\n",
    "test_data = test_data.dropna(how = 'any') \n",
    "\n",
    "print('train 데이터 사이즈:', len(train_data))\n",
    "print('test 데이터 사이즈:', len(test_data))"
   ]
  },
  {
   "cell_type": "code",
   "execution_count": 103,
   "id": "e1e50186",
   "metadata": {},
   "outputs": [
    {
     "name": "stdout",
     "output_type": "stream",
     "text": [
      "Data Size: 192100\n",
      "Example:\n",
      ">> 아 더빙 진짜 짜증나네요 목소리\n",
      ">> 나름 심오한 뜻도 있는 듯 그냥 학생이 선생과 놀아나는 영화는 절대 아님\n",
      ">> 단순하면서 은은한 매력의 영화\n",
      ">> 보는내내 그대로 들어맞는 예측 카리스마 없는 악역\n",
      ">> 뭐냐시작하고 분만에 나왔다 리플릿 사진 보며 불안하더니만\n"
     ]
    }
   ],
   "source": [
    "data = list(train_data['document']) + list(test_data['document'])\n",
    "\n",
    "print(\"Data Size:\", len(data))\n",
    "\n",
    "print(\"Example:\")\n",
    "for sen in data[0:100][::20]: print(\">>\", sen)"
   ]
  },
  {
   "cell_type": "code",
   "execution_count": 104,
   "id": "c771b7fc",
   "metadata": {},
   "outputs": [
    {
     "name": "stdout",
     "output_type": "stream",
     "text": [
      "문장의 최단 길이: 0\n",
      "문장의 최장 길이: 140\n",
      "문장의 평균 길이: 33\n"
     ]
    },
    {
     "data": {
      "image/png": "[encoded data removed]",
      "text/plain": [
       "<Figure size 432x288 with 1 Axes>"
      ]
     },
     "metadata": {
      "needs_background": "light"
     },
     "output_type": "display_data"
    }
   ],
   "source": [
    "min_len = 999\n",
    "max_len = 0\n",
    "sum_len = 0\n",
    "\n",
    "for sen in data:\n",
    "    length = len(sen)\n",
    "    if min_len > length: min_len = length\n",
    "    if max_len < length: max_len = length\n",
    "    sum_len += length\n",
    "\n",
    "print(\"문장의 최단 길이:\", min_len)\n",
    "print(\"문장의 최장 길이:\", max_len)\n",
    "print(\"문장의 평균 길이:\", sum_len // len(data))\n",
    "\n",
    "sentence_length = np.zeros((max_len), dtype=int)\n",
    "\n",
    "for sen in data:\n",
    "    sentence_length[len(sen)-1] += 1\n",
    "\n",
    "plt.bar(range(max_len), sentence_length, width=1.0)\n",
    "plt.title(\"Sentence Length Distribution\")\n",
    "plt.show()"
   ]
  },
  {
   "cell_type": "code",
   "execution_count": 105,
   "id": "402d45a6",
   "metadata": {},
   "outputs": [
    {
     "name": "stdout",
     "output_type": "stream",
     "text": [
      "문장의 최단 길이\n",
      "아\n",
      "점\n",
      "잼\n",
      "즐\n",
      "끙\n",
      "와\n",
      "굿\n",
      " \n",
      "기\n",
      "짱\n",
      "휴\n",
      "야\n",
      "음\n",
      "ㅎ\n",
      "ㅋ\n",
      "굳\n",
      "하\n",
      "네\n",
      "ㅇ\n",
      "등\n",
      "ㅠ\n",
      "우\n",
      "쒯\n",
      "쩝\n",
      "토\n",
      "똥\n",
      "흠\n",
      "류\n",
      "헐\n",
      "삼\n",
      "꽝\n",
      "풉\n",
      "ㅅ\n",
      "왜\n",
      "ㄴ\n",
      "쉣\n",
      "좇\n",
      "봐\n",
      "까\n",
      "뿌\n",
      "ㅜ\n",
      "자\n",
      "참\n",
      "ㅁ\n",
      "ㅉ\n",
      "흥\n",
      "찜\n",
      "귯\n",
      "린\n",
      "후\n",
      "시\n",
      "ㅗ\n",
      "웅\n",
      "ㅣ\n",
      "오\n",
      "쩜\n",
      "허\n",
      "뀼\n",
      "넌\n",
      "빠\n",
      "애\n",
      "헝\n",
      "쨩\n",
      "움\n",
      "켁\n",
      "엥\n",
      "ㄳ\n",
      "업\n",
      "헉\n",
      "군\n",
      "올\n",
      "걍\n",
      "뷁\n",
      "좀\n",
      "멍\n",
      "쀍\n",
      "뭐\n",
      "로\n",
      "ㄹ\n",
      "ㅂ\n",
      "갑\n",
      "욱\n",
      "즛\n",
      "킥\n",
      "함\n",
      "진\n",
      "읭\n",
      "ㅡ\n",
      "잠\n",
      "풋\n",
      "곧\n",
      "ㅍ\n",
      "ㅏ\n",
      "엄\n",
      "닥\n",
      "꽤\n",
      "캬\n",
      "ㅆ\n",
      "ㄵ\n",
      "ㄱ\n",
      "파\n",
      "  \n",
      "문장의 최장 길이\n"
     ]
    }
   ],
   "source": [
    "def check_sentence_with_length(raw, length):\n",
    "    count = 0\n",
    "    \n",
    "    for sen in data:\n",
    "        if len(sen) == length:\n",
    "            print(sen)\n",
    "            count += 1\n",
    "            if count > 100: return\n",
    "\n",
    "print('문장의 최단 길이')\n",
    "check_sentence_with_length(data, 1)\n",
    "print('  ')\n",
    "print('문장의 최장 길이')\n",
    "check_sentence_with_length(data, 144)"
   ]
  },
  {
   "cell_type": "code",
   "execution_count": 106,
   "id": "70ff015b",
   "metadata": {},
   "outputs": [
    {
     "name": "stdout",
     "output_type": "stream",
     "text": [
      "Outlier Index: 4\n",
      "Outlier Index: 5\n",
      "Outlier Index: 6\n",
      "Outlier Index: 7\n",
      "Outlier Index: 8\n",
      "Outlier Index: 9\n",
      "Outlier Index: 10\n",
      "Outlier Index: 11\n",
      "Outlier Index: 12\n",
      "Outlier Index: 13\n",
      "Outlier Index: 14\n",
      "Outlier Index: 15\n",
      "Outlier Index: 16\n",
      "Outlier Index: 17\n",
      "Outlier Index: 18\n",
      "Outlier Index: 19\n",
      "Outlier Index: 20\n",
      "Outlier Index: 21\n",
      "Outlier Index: 22\n",
      "Outlier Index: 23\n",
      "Outlier Index: 24\n",
      "Outlier Index: 25\n",
      "Outlier Index: 26\n",
      "Outlier Index: 27\n",
      "Outlier Index: 28\n",
      "Outlier Index: 29\n",
      "Outlier Index: 30\n",
      "Outlier Index: 31\n",
      "Outlier Index: 32\n",
      "Outlier Index: 33\n",
      "Outlier Index: 34\n",
      "Outlier Index: 35\n",
      "Outlier Index: 36\n",
      "Outlier Index: 37\n",
      "Outlier Index: 38\n",
      "Outlier Index: 39\n",
      "Outlier Index: 40\n",
      "Outlier Index: 41\n",
      "Outlier Index: 42\n",
      "Outlier Index: 43\n",
      "Outlier Index: 44\n"
     ]
    }
   ],
   "source": [
    "for idx, _sum in enumerate(sentence_length):\n",
    "    # 문장의 수가 1500을 초과하는 문장 길이를 추출합니다.\n",
    "    if _sum > 1500:\n",
    "        print(\"Outlier Index:\", idx+1)"
   ]
  },
  {
   "cell_type": "code",
   "execution_count": 107,
   "id": "2d1e0511",
   "metadata": {},
   "outputs": [
    {
     "name": "stdout",
     "output_type": "stream",
     "text": [
      "재밋는뎅\n",
      "킬링타임\n",
      "아 빵점\n",
      "연기 굿\n",
      "좋은영화\n",
      "굿 좋아\n",
      "신선하네\n",
      "재밌는데\n",
      "    \n",
      "ㄵ 점대\n",
      "절대비추\n",
      "구우우웃\n",
      "펑점조절\n",
      "지루하다\n",
      "억지억지\n",
      "목포 붹\n",
      "패륜영화\n",
      "좋은니다\n",
      "재미없다\n",
      "점만들자\n",
      "괜히봤다\n",
      "재미없음\n",
      "시시하다\n",
      "완벽하다\n",
      "장난치냐\n",
      "몰떡몰떡\n",
      "이건뭥미\n",
      "잼슴ㅇㅎ\n",
      "짠하네요\n",
      "기대된디\n",
      "실망이다\n",
      "보고싶다\n",
      "볼만해요\n",
      "사랑한다\n",
      "감동ㅜㅜ\n",
      "나도별로\n",
      "뭥미 헐\n",
      "추억돋네\n",
      "좋았어요\n",
      "재밌어요\n",
      "어이상실\n",
      "볼만했음\n",
      "평점조절\n",
      "별로네요\n",
      "자자자자\n",
      "재밋어요\n",
      "잼있어요\n",
      "돈아깝다\n",
      "미치겠다\n",
      "알파치노\n",
      "명작ㅎㅎ\n",
      "어이없다\n",
      "재밌나여\n",
      "눈물나다\n",
      "굿입니당\n",
      "옥빈님짱\n",
      "과연ㅋㅋ\n",
      "넌센스다\n",
      "피크타임\n",
      "아들은 \n",
      "재밌었죠\n",
      "중국이지\n",
      "시시하네\n",
      "따분하다\n",
      "언제꺼임\n",
      "화가난다\n",
      "별로였음\n",
      "뭐냐이게\n",
      "개쩔었다\n",
      "그지같다\n",
      "재미없네\n",
      "안무섭다\n",
      "훈훈하당\n",
      "아임낫뎃\n",
      "푹 잤음\n",
      "재밌네요\n",
      "별로던데\n",
      "괜찬았음\n",
      "안과 겉\n",
      "참쩔어요\n",
      "재 밌다\n",
      "좋습니다\n",
      "괜찬군요\n",
      "재밌네 \n",
      "걍 평작\n",
      "짜증나서\n",
      "괜찮았음\n",
      "명작이다\n",
      "재밋구만\n",
      "공블리짱\n",
      "이정시러\n",
      "ㅡㅡ 네\n",
      "코믹인가\n",
      "잼나ㅎㅎ\n",
      "완전좋아\n",
      "으하하하\n",
      "그만하자\n",
      "그럭저럭\n",
      "재미없따\n",
      "잼 없음\n",
      "보지마요\n"
     ]
    }
   ],
   "source": [
    "check_sentence_with_length(data, 4)"
   ]
  },
  {
   "cell_type": "code",
   "execution_count": 108,
   "id": "559fd1db",
   "metadata": {
    "scrolled": true
   },
   "outputs": [
    {
     "name": "stdout",
     "output_type": "stream",
     "text": [
      "Data Size: 191074\n",
      "문장의 최단 길이: 0\n",
      "문장의 최장 길이: 140\n",
      "문장의 평균 길이: 33\n"
     ]
    },
    {
     "data": {
      "image/png": "[encoded data removed]",
      "text/plain": [
       "<Figure size 432x288 with 1 Axes>"
      ]
     },
     "metadata": {
      "needs_background": "light"
     },
     "output_type": "display_data"
    }
   ],
   "source": [
    "min_len = 999\n",
    "max_len = 0\n",
    "sum_len = 0\n",
    "\n",
    "cleaned_corpus = list(set(data))  # set를 사용해서 중복을 제거합니다.\n",
    "print(\"Data Size:\", len(cleaned_corpus))\n",
    "\n",
    "for sen in cleaned_corpus:\n",
    "    length = len(sen)\n",
    "    if min_len > length: min_len = length\n",
    "    if max_len < length: max_len = length\n",
    "    sum_len += length\n",
    "\n",
    "print(\"문장의 최단 길이:\", min_len)\n",
    "print(\"문장의 최장 길이:\", max_len)\n",
    "print(\"문장의 평균 길이:\", sum_len // len(cleaned_corpus))\n",
    "\n",
    "sentence_length = np.zeros((max_len), dtype=int)\n",
    "\n",
    "for sen in cleaned_corpus:   # 중복이 제거된 코퍼스 기준\n",
    "    sentence_length[len(sen)-1] += 1\n",
    "\n",
    "plt.bar(range(max_len), sentence_length, width=1.0)\n",
    "plt.title(\"Sentence Length Distribution\")\n",
    "plt.show()"
   ]
  },
  {
   "cell_type": "code",
   "execution_count": 109,
   "id": "aa628ac5",
   "metadata": {},
   "outputs": [
    {
     "data": {
      "image/png": "[encoded data removed]",
      "text/plain": [
       "<Figure size 432x288 with 1 Axes>"
      ]
     },
     "metadata": {
      "needs_background": "light"
     },
     "output_type": "display_data"
    }
   ],
   "source": [
    "max_len = 100\n",
    "min_len = 1\n",
    "\n",
    "# 길이 조건에 맞는 문장만 선택합니다.\n",
    "filtered_corpus = [s for s in cleaned_corpus if (len(s) < max_len) & (len(s) >= min_len)]\n",
    "\n",
    "# 분포도를 다시 그려봅니다.\n",
    "sentence_length = np.zeros((max_len), dtype=int)\n",
    "\n",
    "for sen in filtered_corpus:\n",
    "    sentence_length[len(sen)-1] += 1\n",
    "\n",
    "plt.bar(range(max_len), sentence_length, width=1.0)\n",
    "plt.title(\"Sentence Length Distribution\")\n",
    "plt.show()"
   ]
  },
  {
   "cell_type": "markdown",
   "id": "9719ec18",
   "metadata": {},
   "source": [
    "### 네이버 영화리뷰 감정 분석 코퍼스에 SentencePiece를 적용시킨 모델 학습하기"
   ]
  },
  {
   "cell_type": "code",
   "execution_count": 110,
   "id": "96556589",
   "metadata": {
    "scrolled": true
   },
   "outputs": [
    {
     "name": "stderr",
     "output_type": "stream",
     "text": [
      "sentencepiece_trainer.cc(177) LOG(INFO) Running command: --input=/aiffel/aiffel/sp_tokenizer/data/korean-english-park.train.ko.temp --model_prefix=naver_review_spm --vocab_size=8000\n",
      "sentencepiece_trainer.cc(77) LOG(INFO) Starts training with : \n",
      "trainer_spec {\n",
      "  input: /aiffel/aiffel/sp_tokenizer/data/korean-english-park.train.ko.temp\n",
      "  input_format: \n",
      "  model_prefix: naver_review_spm\n",
      "  model_type: UNIGRAM\n",
      "  vocab_size: 8000\n",
      "  self_test_sample_size: 0\n",
      "  character_coverage: 0.9995\n",
      "  input_sentence_size: 0\n",
      "  shuffle_input_sentence: 1\n",
      "  seed_sentencepiece_size: 1000000\n",
      "  shrinking_factor: 0.75\n",
      "  max_sentence_length: 4192\n",
      "  num_threads: 16\n",
      "  num_sub_iterations: 2\n",
      "  max_sentencepiece_length: 16\n",
      "  split_by_unicode_script: 1\n",
      "  split_by_number: 1\n",
      "  split_by_whitespace: 1\n",
      "  split_digits: 0\n",
      "  treat_whitespace_as_suffix: 0\n",
      "  allow_whitespace_only_pieces: 0\n",
      "  required_chars: \n",
      "  byte_fallback: 0\n",
      "  vocabulary_output_piece_score: 1\n",
      "  train_extremely_large_corpus: 0\n",
      "  hard_vocab_limit: 1\n",
      "  use_all_vocab: 0\n",
      "  unk_id: 0\n",
      "  bos_id: 1\n",
      "  eos_id: 2\n",
      "  pad_id: -1\n",
      "  unk_piece: <unk>\n",
      "  bos_piece: <s>\n",
      "  eos_piece: </s>\n",
      "  pad_piece: <pad>\n",
      "  unk_surface:  ⁇ \n",
      "}\n",
      "normalizer_spec {\n",
      "  name: nmt_nfkc\n",
      "  add_dummy_prefix: 1\n",
      "  remove_extra_whitespaces: 1\n",
      "  escape_whitespaces: 1\n",
      "  normalization_rule_tsv: \n",
      "}\n",
      "denormalizer_spec {}\n",
      "trainer_interface.cc(329) LOG(INFO) SentenceIterator is not specified. Using MultiFileSentenceIterator.\n",
      "trainer_interface.cc(178) LOG(INFO) Loading corpus: /aiffel/aiffel/sp_tokenizer/data/korean-english-park.train.ko.temp\n",
      "trainer_interface.cc(385) LOG(INFO) Loaded all 180862 sentences\n",
      "trainer_interface.cc(400) LOG(INFO) Adding meta_piece: <unk>\n",
      "trainer_interface.cc(400) LOG(INFO) Adding meta_piece: <s>\n",
      "trainer_interface.cc(400) LOG(INFO) Adding meta_piece: </s>\n",
      "trainer_interface.cc(405) LOG(INFO) Normalizing sentences...\n",
      "trainer_interface.cc(466) LOG(INFO) all chars count=5342942\n",
      "trainer_interface.cc(477) LOG(INFO) Done: 99.9501% characters are covered.\n",
      "trainer_interface.cc(487) LOG(INFO) Alphabet size=1566\n",
      "trainer_interface.cc(488) LOG(INFO) Final character coverage=0.999501\n",
      "trainer_interface.cc(520) LOG(INFO) Done! preprocessed 180839 sentences.\n",
      "unigram_model_trainer.cc(139) LOG(INFO) Making suffix array...\n",
      "unigram_model_trainer.cc(143) LOG(INFO) Extracting frequent sub strings...\n",
      "unigram_model_trainer.cc(194) LOG(INFO) Initialized 333818 seed sentencepieces\n",
      "trainer_interface.cc(526) LOG(INFO) Tokenizing input sentences with whitespace: 180839\n",
      "trainer_interface.cc(537) LOG(INFO) Done! 310953\n",
      "unigram_model_trainer.cc(489) LOG(INFO) Using 310953 sentences for EM training\n",
      "unigram_model_trainer.cc(505) LOG(INFO) EM sub_iter=0 size=160507 obj=13.811 num_tokens=646320 num_tokens/piece=4.02674\n",
      "unigram_model_trainer.cc(505) LOG(INFO) EM sub_iter=1 size=147728 obj=12.8906 num_tokens=649219 num_tokens/piece=4.39469\n",
      "unigram_model_trainer.cc(505) LOG(INFO) EM sub_iter=0 size=110720 obj=12.9688 num_tokens=682412 num_tokens/piece=6.1634\n",
      "unigram_model_trainer.cc(505) LOG(INFO) EM sub_iter=1 size=110459 obj=12.9176 num_tokens=682724 num_tokens/piece=6.18079\n",
      "unigram_model_trainer.cc(505) LOG(INFO) EM sub_iter=0 size=82839 obj=13.1234 num_tokens=723155 num_tokens/piece=8.72964\n",
      "unigram_model_trainer.cc(505) LOG(INFO) EM sub_iter=1 size=82829 obj=13.0666 num_tokens=723322 num_tokens/piece=8.73271\n",
      "unigram_model_trainer.cc(505) LOG(INFO) EM sub_iter=0 size=62121 obj=13.2965 num_tokens=761768 num_tokens/piece=12.2626\n",
      "unigram_model_trainer.cc(505) LOG(INFO) EM sub_iter=1 size=62120 obj=13.2417 num_tokens=761768 num_tokens/piece=12.2628\n",
      "unigram_model_trainer.cc(505) LOG(INFO) EM sub_iter=0 size=46590 obj=13.5 num_tokens=802488 num_tokens/piece=17.2245\n",
      "unigram_model_trainer.cc(505) LOG(INFO) EM sub_iter=1 size=46590 obj=13.44 num_tokens=802517 num_tokens/piece=17.2251\n",
      "unigram_model_trainer.cc(505) LOG(INFO) EM sub_iter=0 size=34942 obj=13.728 num_tokens=843443 num_tokens/piece=24.1384\n",
      "unigram_model_trainer.cc(505) LOG(INFO) EM sub_iter=1 size=34942 obj=13.6668 num_tokens=843459 num_tokens/piece=24.1388\n",
      "unigram_model_trainer.cc(505) LOG(INFO) EM sub_iter=0 size=26206 obj=13.9882 num_tokens=885849 num_tokens/piece=33.8033\n",
      "unigram_model_trainer.cc(505) LOG(INFO) EM sub_iter=1 size=26206 obj=13.9208 num_tokens=885851 num_tokens/piece=33.8034\n",
      "unigram_model_trainer.cc(505) LOG(INFO) EM sub_iter=0 size=19654 obj=14.2723 num_tokens=930413 num_tokens/piece=47.3396\n",
      "unigram_model_trainer.cc(505) LOG(INFO) EM sub_iter=1 size=19654 obj=14.1977 num_tokens=930496 num_tokens/piece=47.3438\n",
      "unigram_model_trainer.cc(505) LOG(INFO) EM sub_iter=0 size=14740 obj=14.5818 num_tokens=976811 num_tokens/piece=66.2694\n",
      "unigram_model_trainer.cc(505) LOG(INFO) EM sub_iter=1 size=14740 obj=14.4963 num_tokens=976974 num_tokens/piece=66.2805\n",
      "unigram_model_trainer.cc(505) LOG(INFO) EM sub_iter=0 size=11055 obj=14.9195 num_tokens=1027166 num_tokens/piece=92.9142\n",
      "unigram_model_trainer.cc(505) LOG(INFO) EM sub_iter=1 size=11055 obj=14.8174 num_tokens=1027491 num_tokens/piece=92.9436\n",
      "unigram_model_trainer.cc(505) LOG(INFO) EM sub_iter=0 size=8800 obj=15.1821 num_tokens=1068346 num_tokens/piece=121.403\n",
      "unigram_model_trainer.cc(505) LOG(INFO) EM sub_iter=1 size=8800 obj=15.096 num_tokens=1068707 num_tokens/piece=121.444\n",
      "trainer_interface.cc(615) LOG(INFO) Saving model: naver_review_spm.model\n",
      "trainer_interface.cc(626) LOG(INFO) Saving vocabs: naver_review_spm.vocab\n"
     ]
    },
    {
     "name": "stdout",
     "output_type": "stream",
     "text": [
      "-rw-r--r-- 1 root root 378085 Dec 27 06:59 naver_review_spm.model\r\n",
      "-rw-r--r-- 1 root root 147373 Dec 27 06:59 naver_review_spm.vocab\r\n"
     ]
    }
   ],
   "source": [
    "import sentencepiece as spm\n",
    "import os\n",
    "temp_file = os.getenv('HOME')+'/aiffel/sp_tokenizer/data/korean-english-park.train.ko.temp'\n",
    "\n",
    "vocab_size = 8000\n",
    "\n",
    "with open(temp_file, 'w') as f:\n",
    "    for row in filtered_corpus:   # 이전에 나왔던 정제했던 corpus를 활용해서 진행해야 합니다.\n",
    "        f.write(str(row) + '\\n')\n",
    "\n",
    "spm.SentencePieceTrainer.Train(\n",
    "    '--input={} --model_prefix=naver_review_spm --vocab_size={}'.format(temp_file, vocab_size)    \n",
    ")\n",
    "#위 Train에서  --model_type = unigram이 디폴트 적용되어 있습니다. --model_type = bpe로 옵션을 주어 변경할 수 있습니다.\n",
    "\n",
    "!ls -l naver_review_spm*"
   ]
  },
  {
   "cell_type": "code",
   "execution_count": 111,
   "id": "1305d9d2",
   "metadata": {},
   "outputs": [
    {
     "name": "stdout",
     "output_type": "stream",
     "text": [
      "[1340, 8, 385, 11, 1181, 8, 134, 13, 0]\n",
      "['▁아버지', '가', '방', '에', '들어', '가', '신', '다', '.']\n",
      "아버지가방에들어가신다 ⁇ \n"
     ]
    }
   ],
   "source": [
    "s = spm.SentencePieceProcessor()\n",
    "s.Load('naver_review_spm.model')\n",
    "\n",
    "# SentencePiece를 활용한 sentence -> encoding\n",
    "tokensIDs = s.EncodeAsIds('아버지가방에들어가신다.')\n",
    "print(tokensIDs)\n",
    "\n",
    "# SentencePiece를 활용한 sentence -> encoded pieces\n",
    "print(s.SampleEncodeAsPieces('아버지가방에들어가신다.',1, 0.0))\n",
    "\n",
    "# SentencePiece를 활용한 encoding -> sentence 복원\n",
    "print(s.DecodeIds(tokensIDs))"
   ]
  },
  {
   "cell_type": "markdown",
   "id": "e478fec8",
   "metadata": {},
   "source": [
    "### 학습된 모델로 sp_tokenize() 메소드 구현하기"
   ]
  },
  {
   "cell_type": "code",
   "execution_count": 112,
   "id": "f295186d",
   "metadata": {},
   "outputs": [],
   "source": [
    "# SentencePiece 모델을 사용하여 한국어 텍스트를 토큰화하는 함수인 sp_tokenize를 정의\n",
    "def sp_tokenize(s, corpus): \n",
    "\n",
    "    tensor = []\n",
    "\n",
    "    for sen in corpus:\n",
    "        tensor.append(s.EncodeAsIds(sen))\n",
    "\n",
    "    with open(\"./naver_review_spm.vocab\", 'r') as f:\n",
    "        vocab = f.readlines()\n",
    "\n",
    "    word_index = {}\n",
    "    index_word = {}\n",
    "\n",
    "    for idx, line in enumerate(vocab):\n",
    "        word = line.split(\"\\t\")[0]\n",
    "\n",
    "        word_index.update({word:idx})\n",
    "        index_word.update({idx:word})\n",
    "\n",
    "    tensor = tf.keras.preprocessing.sequence.pad_sequences(tensor, padding='pre', maxlen = 100)\n",
    "\n",
    "    return tensor, word_index, index_word"
   ]
  },
  {
   "cell_type": "code",
   "execution_count": 113,
   "id": "0b37d623",
   "metadata": {},
   "outputs": [
    {
     "name": "stdout",
     "output_type": "stream",
     "text": [
      "(192100, 100)\n"
     ]
    }
   ],
   "source": [
    "# 위에서 정의한 sp_tokenize 함수를 사용하여 데이터를 토큰화하고 인덱싱\n",
    "tensor, word_index, index_word = sp_tokenize(s, data)\n",
    "print(tensor.shape)"
   ]
  },
  {
   "cell_type": "markdown",
   "id": "9253666a",
   "metadata": {},
   "source": [
    "### 구현된 토크나이저를 적용하여 네이버 영화리뷰 감정 분석 모델을 재학습하기"
   ]
  },
  {
   "cell_type": "code",
   "execution_count": 114,
   "id": "ef9f6083",
   "metadata": {},
   "outputs": [
    {
     "name": "stdout",
     "output_type": "stream",
     "text": [
      "(93682, 100)\n",
      "(93682,)\n",
      "(143682, 3)\n",
      "(143682, 100)\n",
      "(143682,)\n"
     ]
    }
   ],
   "source": [
    "# 데이터 분할\n",
    "X_train = tensor[:143682] \n",
    "X_test = tensor[143682:] # 146182 : 정규화 안했을때\n",
    "\n",
    "y_train = np.array(list(train_data['label']))\n",
    "y_test = np.array(list(test_data['label']))\n",
    "\n",
    "# validation set 50000건 분리\n",
    "X_val = X_train[:50000]   \n",
    "y_val = y_train[:50000]\n",
    "\n",
    "# validation set을 제외한 나머지 \n",
    "partial_X_train = X_train[50000:]  \n",
    "partial_y_train = y_train[50000:]\n",
    "\n",
    "print(partial_X_train.shape)\n",
    "print(partial_y_train.shape)\n",
    "print(train_data.shape)\n",
    "print(X_train.shape)\n",
    "print(y_train.shape)"
   ]
  },
  {
   "cell_type": "code",
   "execution_count": 115,
   "id": "433868a0",
   "metadata": {},
   "outputs": [
    {
     "name": "stdout",
     "output_type": "stream",
     "text": [
      "Model: \"sequential_7\"\n",
      "_________________________________________________________________\n",
      "Layer (type)                 Output Shape              Param #   \n",
      "=================================================================\n",
      "embedding_7 (Embedding)      (None, None, 16)          160000    \n",
      "_________________________________________________________________\n",
      "lstm_7 (LSTM)                (None, 8)                 800       \n",
      "_________________________________________________________________\n",
      "dense_14 (Dense)             (None, 8)                 72        \n",
      "_________________________________________________________________\n",
      "dense_15 (Dense)             (None, 1)                 9         \n",
      "=================================================================\n",
      "Total params: 160,881\n",
      "Trainable params: 160,881\n",
      "Non-trainable params: 0\n",
      "_________________________________________________________________\n"
     ]
    }
   ],
   "source": [
    "vocab_size = 10000    # 어휘 사전의 크기입니다(10,000개의 단어)\n",
    "word_vector_dim = 16  # 워드 벡터의 차원 수 (변경 가능한 하이퍼파라미터)\n",
    "\n",
    "# model 설계\n",
    "model = tf.keras.Sequential()\n",
    "model.add(tf.keras.layers.Embedding(vocab_size, word_vector_dim, input_shape=(None,)))\n",
    "model.add(tf.keras.layers.LSTM(8))  \n",
    "model.add(tf.keras.layers.Dense(8, activation='relu'))\n",
    "model.add(tf.keras.layers.Dense(1, activation='sigmoid'))  # 최종 출력 : 긍정/부정\n",
    "\n",
    "model.summary()"
   ]
  },
  {
   "cell_type": "code",
   "execution_count": 116,
   "id": "e568dbaf",
   "metadata": {
    "scrolled": true
   },
   "outputs": [
    {
     "name": "stdout",
     "output_type": "stream",
     "text": [
      "Epoch 1/5\n",
      "183/183 [==============================] - 3s 10ms/step - loss: 0.5602 - accuracy: 0.7422 - val_loss: 0.3856 - val_accuracy: 0.8367\n",
      "Epoch 2/5\n",
      "183/183 [==============================] - 1s 8ms/step - loss: 0.3540 - accuracy: 0.8502 - val_loss: 0.3577 - val_accuracy: 0.8449\n",
      "Epoch 3/5\n",
      "183/183 [==============================] - 1s 8ms/step - loss: 0.3241 - accuracy: 0.8654 - val_loss: 0.3560 - val_accuracy: 0.8455\n",
      "Epoch 4/5\n",
      "183/183 [==============================] - 1s 8ms/step - loss: 0.3130 - accuracy: 0.8703 - val_loss: 0.3565 - val_accuracy: 0.8458\n",
      "Epoch 5/5\n",
      "183/183 [==============================] - 1s 8ms/step - loss: 0.3067 - accuracy: 0.8735 - val_loss: 0.3584 - val_accuracy: 0.8447\n"
     ]
    }
   ],
   "source": [
    "# 모델 훈련\n",
    "model.compile(optimizer='adam',\n",
    "              loss='binary_crossentropy',\n",
    "              metrics=['accuracy'])\n",
    "              \n",
    "epochs=5\n",
    "\n",
    "history = model.fit(partial_X_train,\n",
    "                    partial_y_train,\n",
    "                    epochs=epochs,\n",
    "                    batch_size=512,\n",
    "                    validation_data=(X_val, y_val),\n",
    "                    verbose=1)"
   ]
  },
  {
   "cell_type": "code",
   "execution_count": null,
   "id": "39d36487",
   "metadata": {},
   "outputs": [],
   "source": []
  },
  {
   "cell_type": "code",
   "execution_count": 117,
   "id": "96541ff1",
   "metadata": {
    "scrolled": true
   },
   "outputs": [
    {
     "name": "stdout",
     "output_type": "stream",
     "text": [
      "1514/1514 - 4s - loss: 0.3705 - accuracy: 0.8411\n",
      "[0.3705178201198578, 0.8411127924919128]\n"
     ]
    }
   ],
   "source": [
    "# 정규화를 진행 했을 때의 모델 성능 \n",
    "results = model.evaluate(X_test,  y_test, verbose=2)\n",
    "\n",
    "print(results)"
   ]
  },
  {
   "cell_type": "code",
   "execution_count": 118,
   "id": "212e9add",
   "metadata": {
    "scrolled": true
   },
   "outputs": [
    {
     "name": "stdout",
     "output_type": "stream",
     "text": [
      "dict_keys(['loss', 'accuracy', 'val_loss', 'val_accuracy'])\n"
     ]
    }
   ],
   "source": [
    "history_dict = history.history\n",
    "print(history_dict.keys()) # epoch에 따른 그래프를 그려볼 수 있는 항목들"
   ]
  },
  {
   "cell_type": "code",
   "execution_count": 119,
   "id": "5bbdbf8f",
   "metadata": {},
   "outputs": [
    {
     "data": {
      "image/png": "[encoded data removed]",
      "text/plain": [
       "<Figure size 432x288 with 1 Axes>"
      ]
     },
     "metadata": {
      "needs_background": "light"
     },
     "output_type": "display_data"
    }
   ],
   "source": [
    "# loss 시각화\n",
    "\n",
    "acc = history_dict['accuracy']\n",
    "val_acc = history_dict['val_accuracy']\n",
    "loss = history_dict['loss']\n",
    "val_loss = history_dict['val_loss']\n",
    "\n",
    "epochs = range(1, len(acc) + 1)\n",
    "\n",
    "# \"bo\"는 \"파란색 점\"\n",
    "plt.plot(epochs, loss, 'bo', label='Training loss')\n",
    "# b는 \"파란 실선\"\n",
    "plt.plot(epochs, val_loss, 'b', label='Validation loss')\n",
    "plt.title('Training and validation loss')\n",
    "plt.xlabel('Epochs')\n",
    "plt.ylabel('Loss')\n",
    "plt.legend()\n",
    "\n",
    "plt.show()"
   ]
  },
  {
   "cell_type": "code",
   "execution_count": 120,
   "id": "1b1cffde",
   "metadata": {},
   "outputs": [
    {
     "data": {
      "image/png": "[encoded data removed]",
      "text/plain": [
       "<Figure size 432x288 with 1 Axes>"
      ]
     },
     "metadata": {
      "needs_background": "light"
     },
     "output_type": "display_data"
    }
   ],
   "source": [
    "# accuracy 시각화\n",
    "plt.clf()   # 그림을 초기화\n",
    "\n",
    "plt.plot(epochs, acc, 'bo', label='Training acc')\n",
    "plt.plot(epochs, val_acc, 'b', label='Validation acc')\n",
    "plt.title('Training and validation accuracy')\n",
    "plt.xlabel('Epochs')\n",
    "plt.ylabel('Accuracy')\n",
    "plt.legend()\n",
    "\n",
    "plt.show()"
   ]
  },
  {
   "cell_type": "markdown",
   "id": "cc9e7b9a",
   "metadata": {},
   "source": [
    "### KoNLPy 형태소 분석기를 사용한 모델과 성능 비교하기\n",
    "- KoNLPy 중 가장 성능이 준수한 MeCab클래스를 활용"
   ]
  },
  {
   "cell_type": "code",
   "execution_count": 137,
   "id": "c56832d6",
   "metadata": {},
   "outputs": [
    {
     "name": "stdout",
     "output_type": "stream",
     "text": [
      "['자연어', '처리', '가', '너무', '재밌', '어서', '밥', '먹', '는', '것', '도', '가끔', '까먹', '어요']\n"
     ]
    }
   ],
   "source": [
    "from konlpy.tag import Mecab\n",
    "\n",
    "mecab = Mecab()\n",
    "print(mecab.morphs('자연어처리가너무재밌어서밥먹는것도가끔까먹어요'))"
   ]
  },
  {
   "cell_type": "code",
   "execution_count": 172,
   "id": "5745b4a8",
   "metadata": {},
   "outputs": [],
   "source": [
    "def tokenize(corpus):  # corpus: Tokenized Sentence's List\n",
    "    tokenizer = tf.keras.preprocessing.text.Tokenizer(filters='')\n",
    "    tokenizer.fit_on_texts(corpus)\n",
    "\n",
    "    tensor = tokenizer.texts_to_sequences(corpus)\n",
    "\n",
    "    tensor = tf.keras.preprocessing.sequence.pad_sequences(tensor, padding='pre', maxlen = 100)\n",
    "    return tensor, tokenizer"
   ]
  },
  {
   "cell_type": "code",
   "execution_count": 173,
   "id": "b8badecf",
   "metadata": {},
   "outputs": [],
   "source": [
    "# mecab.morphs()를 사용해서 형태소분석을 합니다.\n",
    "def mecab_split(sentence):\n",
    "    return mecab.morphs(sentence)\n",
    "\n",
    "mecab_corpus = []\n",
    "\n",
    "for sen in filtered_corpus:\n",
    "    mecab_corpus.append(mecab_split(sen))"
   ]
  },
  {
   "cell_type": "code",
   "execution_count": 174,
   "id": "dadee39b",
   "metadata": {},
   "outputs": [
    {
     "name": "stdout",
     "output_type": "stream",
     "text": [
      "MeCab Vocab Size: 51162\n"
     ]
    }
   ],
   "source": [
    "mecab_tensor, mecab_tokenizer = tokenize(mecab_corpus)\n",
    "\n",
    "print(\"MeCab Vocab Size:\", len(mecab_tokenizer.index_word))"
   ]
  },
  {
   "cell_type": "code",
   "execution_count": 175,
   "id": "32963993",
   "metadata": {},
   "outputs": [
    {
     "name": "stdout",
     "output_type": "stream",
     "text": [
      "(93682, 100)\n",
      "(93682,)\n",
      "(143682, 3)\n",
      "(143682, 100)\n",
      "(143682,)\n"
     ]
    }
   ],
   "source": [
    "# 데이터 분할\n",
    "X_train = tensor[:143682] \n",
    "X_test = tensor[143682:] # 146182 : 정규화 안했을때\n",
    "\n",
    "y_train = np.array(list(train_data['label']))\n",
    "y_test = np.array(list(test_data['label']))\n",
    "\n",
    "# validation set 50000건 분리\n",
    "X_val = X_train[:50000]   \n",
    "y_val = y_train[:50000]\n",
    "\n",
    "# validation set을 제외한 나머지 \n",
    "partial_X_train = X_train[50000:]  \n",
    "partial_y_train = y_train[50000:]\n",
    "\n",
    "print(partial_X_train.shape)\n",
    "print(partial_y_train.shape)\n",
    "print(train_data.shape)\n",
    "print(X_train.shape)\n",
    "print(y_train.shape)"
   ]
  },
  {
   "cell_type": "code",
   "execution_count": 176,
   "id": "c8221580",
   "metadata": {},
   "outputs": [
    {
     "name": "stdout",
     "output_type": "stream",
     "text": [
      "Model: \"sequential_14\"\n",
      "_________________________________________________________________\n",
      "Layer (type)                 Output Shape              Param #   \n",
      "=================================================================\n",
      "embedding_14 (Embedding)     (None, None, 16)          160000    \n",
      "_________________________________________________________________\n",
      "lstm_14 (LSTM)               (None, 8)                 800       \n",
      "_________________________________________________________________\n",
      "dense_28 (Dense)             (None, 8)                 72        \n",
      "_________________________________________________________________\n",
      "dense_29 (Dense)             (None, 1)                 9         \n",
      "=================================================================\n",
      "Total params: 160,881\n",
      "Trainable params: 160,881\n",
      "Non-trainable params: 0\n",
      "_________________________________________________________________\n"
     ]
    }
   ],
   "source": [
    "vocab_size = 10000    # 어휘 사전의 크기입니다(10,000개의 단어)\n",
    "word_vector_dim = 16  # 워드 벡터의 차원 수 (변경 가능한 하이퍼파라미터)\n",
    "\n",
    "# model 설계\n",
    "model = tf.keras.Sequential()\n",
    "model.add(tf.keras.layers.Embedding(vocab_size, word_vector_dim, input_shape=(None,)))\n",
    "model.add(tf.keras.layers.LSTM(8))  \n",
    "model.add(tf.keras.layers.Dense(8, activation='relu'))\n",
    "model.add(tf.keras.layers.Dense(1, activation='sigmoid'))  # 최종 출력 : 긍정/부정\n",
    "\n",
    "model.summary()"
   ]
  },
  {
   "cell_type": "code",
   "execution_count": 177,
   "id": "e3d81fd0",
   "metadata": {},
   "outputs": [
    {
     "name": "stdout",
     "output_type": "stream",
     "text": [
      "Epoch 1/5\n",
      "183/183 [==============================] - 4s 11ms/step - loss: 0.5545 - accuracy: 0.7543 - val_loss: 0.3853 - val_accuracy: 0.8382\n",
      "Epoch 2/5\n",
      "183/183 [==============================] - 2s 8ms/step - loss: 0.3524 - accuracy: 0.8510 - val_loss: 0.3559 - val_accuracy: 0.8461\n",
      "Epoch 3/5\n",
      "183/183 [==============================] - 2s 8ms/step - loss: 0.3227 - accuracy: 0.8651 - val_loss: 0.3561 - val_accuracy: 0.8452\n",
      "Epoch 4/5\n",
      "183/183 [==============================] - 2s 9ms/step - loss: 0.3128 - accuracy: 0.8693 - val_loss: 0.3558 - val_accuracy: 0.8458\n",
      "Epoch 5/5\n",
      "183/183 [==============================] - 2s 8ms/step - loss: 0.3060 - accuracy: 0.8726 - val_loss: 0.3565 - val_accuracy: 0.8452\n"
     ]
    }
   ],
   "source": [
    "# 모델 훈련\n",
    "model.compile(optimizer='adam',\n",
    "              loss='binary_crossentropy',\n",
    "              metrics=['accuracy'])\n",
    "              \n",
    "epochs=5\n",
    "\n",
    "history = model.fit(partial_X_train,\n",
    "                    partial_y_train,\n",
    "                    epochs=epochs,\n",
    "                    batch_size=512,\n",
    "                    validation_data=(X_val, y_val),\n",
    "                    verbose=1)"
   ]
  },
  {
   "cell_type": "code",
   "execution_count": 178,
   "id": "c46e6f86",
   "metadata": {},
   "outputs": [
    {
     "name": "stdout",
     "output_type": "stream",
     "text": [
      "1514/1514 - 4s - loss: 0.3685 - accuracy: 0.8410\n",
      "[0.36849361658096313, 0.8409888744354248]\n"
     ]
    }
   ],
   "source": [
    "# 정규화를 진행 했을 때의 모델 성능 \n",
    "results = model.evaluate(X_test,  y_test, verbose=2)\n",
    "\n",
    "print(results)"
   ]
  },
  {
   "cell_type": "code",
   "execution_count": 169,
   "id": "5ee7f288",
   "metadata": {},
   "outputs": [
    {
     "name": "stdout",
     "output_type": "stream",
     "text": [
      "dict_keys(['loss', 'accuracy', 'val_loss', 'val_accuracy'])\n"
     ]
    }
   ],
   "source": [
    "history_dict = history.history\n",
    "print(history_dict.keys()) # epoch에 따른 그래프를 그려볼 수 있는 항목들"
   ]
  },
  {
   "cell_type": "code",
   "execution_count": 170,
   "id": "80e4d647",
   "metadata": {},
   "outputs": [
    {
     "data": {
      "image/png": "[encoded data removed]",
      "text/plain": [
       "<Figure size 432x288 with 1 Axes>"
      ]
     },
     "metadata": {
      "needs_background": "light"
     },
     "output_type": "display_data"
    }
   ],
   "source": [
    "# loss 시각화\n",
    "\n",
    "acc = history_dict['accuracy']\n",
    "val_acc = history_dict['val_accuracy']\n",
    "loss = history_dict['loss']\n",
    "val_loss = history_dict['val_loss']\n",
    "\n",
    "epochs = range(1, len(acc) + 1)\n",
    "\n",
    "# \"bo\"는 \"파란색 점\"\n",
    "plt.plot(epochs, loss, 'bo', label='Training loss')\n",
    "# b는 \"파란 실선\"\n",
    "plt.plot(epochs, val_loss, 'b', label='Validation loss')\n",
    "plt.title('Training and validation loss')\n",
    "plt.xlabel('Epochs')\n",
    "plt.ylabel('Loss')\n",
    "plt.legend()\n",
    "\n",
    "plt.show()"
   ]
  },
  {
   "cell_type": "code",
   "execution_count": 171,
   "id": "647a7a17",
   "metadata": {
    "scrolled": true
   },
   "outputs": [
    {
     "data": {
      "image/png": "[encoded data removed]",
      "text/plain": [
       "<Figure size 432x288 with 1 Axes>"
      ]
     },
     "metadata": {
      "needs_background": "light"
     },
     "output_type": "display_data"
    }
   ],
   "source": [
    "# accuracy 시각화\n",
    "plt.clf()   # 그림을 초기화\n",
    "\n",
    "plt.plot(epochs, acc, 'bo', label='Training acc')\n",
    "plt.plot(epochs, val_acc, 'b', label='Validation acc')\n",
    "plt.title('Training and validation accuracy')\n",
    "plt.xlabel('Epochs')\n",
    "plt.ylabel('Accuracy')\n",
    "plt.legend()\n",
    "\n",
    "plt.show()"
   ]
  },
  {
   "cell_type": "markdown",
   "id": "8b8e6171",
   "metadata": {},
   "source": [
    "### SentencePiece 모델의 model_type, vocab_size 등을 변경해 가면서 성능 개선 여부 확인하기"
   ]
  },
  {
   "cell_type": "code",
   "execution_count": 180,
   "id": "87eb443e",
   "metadata": {},
   "outputs": [
    {
     "name": "stderr",
     "output_type": "stream",
     "text": [
      "sentencepiece_trainer.cc(177) LOG(INFO) Running command: --input=/aiffel/aiffel/sp_tokenizer/data/korean-english-park.train.ko.temp --model_type=bpe --model_prefix=naver_review_spm_bpe --vocab_size=8000\n",
      "sentencepiece_trainer.cc(77) LOG(INFO) Starts training with : \n",
      "trainer_spec {\n",
      "  input: /aiffel/aiffel/sp_tokenizer/data/korean-english-park.train.ko.temp\n",
      "  input_format: \n",
      "  model_prefix: naver_review_spm_bpe\n",
      "  model_type: BPE\n",
      "  vocab_size: 8000\n",
      "  self_test_sample_size: 0\n",
      "  character_coverage: 0.9995\n",
      "  input_sentence_size: 0\n",
      "  shuffle_input_sentence: 1\n",
      "  seed_sentencepiece_size: 1000000\n",
      "  shrinking_factor: 0.75\n",
      "  max_sentence_length: 4192\n",
      "  num_threads: 16\n",
      "  num_sub_iterations: 2\n",
      "  max_sentencepiece_length: 16\n",
      "  split_by_unicode_script: 1\n",
      "  split_by_number: 1\n",
      "  split_by_whitespace: 1\n",
      "  split_digits: 0\n",
      "  treat_whitespace_as_suffix: 0\n",
      "  allow_whitespace_only_pieces: 0\n",
      "  required_chars: \n",
      "  byte_fallback: 0\n",
      "  vocabulary_output_piece_score: 1\n",
      "  train_extremely_large_corpus: 0\n",
      "  hard_vocab_limit: 1\n",
      "  use_all_vocab: 0\n",
      "  unk_id: 0\n",
      "  bos_id: 1\n",
      "  eos_id: 2\n",
      "  pad_id: -1\n",
      "  unk_piece: <unk>\n",
      "  bos_piece: <s>\n",
      "  eos_piece: </s>\n",
      "  pad_piece: <pad>\n",
      "  unk_surface:  ⁇ \n",
      "}\n",
      "normalizer_spec {\n",
      "  name: nmt_nfkc\n",
      "  add_dummy_prefix: 1\n",
      "  remove_extra_whitespaces: 1\n",
      "  escape_whitespaces: 1\n",
      "  normalization_rule_tsv: \n",
      "}\n",
      "denormalizer_spec {}\n",
      "trainer_interface.cc(329) LOG(INFO) SentenceIterator is not specified. Using MultiFileSentenceIterator.\n",
      "trainer_interface.cc(178) LOG(INFO) Loading corpus: /aiffel/aiffel/sp_tokenizer/data/korean-english-park.train.ko.temp\n",
      "trainer_interface.cc(385) LOG(INFO) Loaded all 180862 sentences\n",
      "trainer_interface.cc(400) LOG(INFO) Adding meta_piece: <unk>\n",
      "trainer_interface.cc(400) LOG(INFO) Adding meta_piece: <s>\n",
      "trainer_interface.cc(400) LOG(INFO) Adding meta_piece: </s>\n",
      "trainer_interface.cc(405) LOG(INFO) Normalizing sentences...\n",
      "trainer_interface.cc(466) LOG(INFO) all chars count=5342942\n",
      "trainer_interface.cc(477) LOG(INFO) Done: 99.9501% characters are covered.\n",
      "trainer_interface.cc(487) LOG(INFO) Alphabet size=1566\n",
      "trainer_interface.cc(488) LOG(INFO) Final character coverage=0.999501\n",
      "trainer_interface.cc(520) LOG(INFO) Done! preprocessed 180839 sentences.\n",
      "trainer_interface.cc(526) LOG(INFO) Tokenizing input sentences with whitespace: 180839\n",
      "trainer_interface.cc(537) LOG(INFO) Done! 310953\n",
      "bpe_model_trainer.cc(167) LOG(INFO) Updating active symbols. max_freq=67735 min_freq=80\n",
      "bpe_model_trainer.cc(258) LOG(INFO) Added: freq=12010 size=20 all=120664 active=12186 piece=▁재미\n",
      "bpe_model_trainer.cc(258) LOG(INFO) Added: freq=9409 size=40 all=125764 active=17286 piece=▁가\n",
      "bpe_model_trainer.cc(258) LOG(INFO) Added: freq=6480 size=60 all=129891 active=21413 piece=▁평점\n",
      "bpe_model_trainer.cc(258) LOG(INFO) Added: freq=5050 size=80 all=134850 active=26372 piece=▁자\n",
      "bpe_model_trainer.cc(258) LOG(INFO) Added: freq=4418 size=100 all=138690 active=30212 piece=보다\n",
      "bpe_model_trainer.cc(167) LOG(INFO) Updating active symbols. max_freq=4408 min_freq=66\n",
      "bpe_model_trainer.cc(258) LOG(INFO) Added: freq=3907 size=120 all=142168 active=9853 piece=▁조\n",
      "bpe_model_trainer.cc(258) LOG(INFO) Added: freq=3351 size=140 all=145192 active=12877 piece=▁웃\n",
      "bpe_model_trainer.cc(258) LOG(INFO) Added: freq=3006 size=160 all=147939 active=15624 piece=지막\n",
      "bpe_model_trainer.cc(258) LOG(INFO) Added: freq=2769 size=180 all=150735 active=18420 piece=▁영화가\n",
      "bpe_model_trainer.cc(258) LOG(INFO) Added: freq=2598 size=200 all=153735 active=21420 piece=하지\n",
      "bpe_model_trainer.cc(167) LOG(INFO) Updating active symbols. max_freq=2559 min_freq=58\n",
      "bpe_model_trainer.cc(258) LOG(INFO) Added: freq=2358 size=220 all=157202 active=10768 piece=▁성\n",
      "bpe_model_trainer.cc(258) LOG(INFO) Added: freq=2149 size=240 all=159850 active=13416 piece=▁역시\n",
      "bpe_model_trainer.cc(258) LOG(INFO) Added: freq=2003 size=260 all=162260 active=15826 piece=▁위\n",
      "bpe_model_trainer.cc(258) LOG(INFO) Added: freq=1885 size=280 all=165190 active=18756 piece=적으로\n",
      "bpe_model_trainer.cc(258) LOG(INFO) Added: freq=1776 size=300 all=168352 active=21917 piece=문에\n",
      "bpe_model_trainer.cc(167) LOG(INFO) Updating active symbols. max_freq=1773 min_freq=52\n",
      "bpe_model_trainer.cc(258) LOG(INFO) Added: freq=1646 size=320 all=170731 active=10721 piece=필요\n",
      "bpe_model_trainer.cc(258) LOG(INFO) Added: freq=1508 size=340 all=173084 active=13074 piece=없다\n",
      "bpe_model_trainer.cc(258) LOG(INFO) Added: freq=1461 size=360 all=175361 active=15351 piece=인가\n",
      "bpe_model_trainer.cc(258) LOG(INFO) Added: freq=1409 size=380 all=178064 active=18054 piece=▁애니\n",
      "bpe_model_trainer.cc(258) LOG(INFO) Added: freq=1356 size=400 all=180382 active=20372 piece=▁누\n",
      "bpe_model_trainer.cc(167) LOG(INFO) Updating active symbols. max_freq=1353 min_freq=48\n",
      "bpe_model_trainer.cc(258) LOG(INFO) Added: freq=1270 size=420 all=182630 active=11226 piece=▁남자\n",
      "bpe_model_trainer.cc(258) LOG(INFO) Added: freq=1209 size=440 all=184440 active=13036 piece=스러\n",
      "bpe_model_trainer.cc(258) LOG(INFO) Added: freq=1152 size=460 all=186710 active=15306 piece=▁인간\n",
      "bpe_model_trainer.cc(258) LOG(INFO) Added: freq=1099 size=480 all=189088 active=17684 piece=▁엄청\n",
      "bpe_model_trainer.cc(258) LOG(INFO) Added: freq=1044 size=500 all=190744 active=19340 piece=▁욕\n",
      "bpe_model_trainer.cc(167) LOG(INFO) Updating active symbols. max_freq=1043 min_freq=44\n",
      "bpe_model_trainer.cc(258) LOG(INFO) Added: freq=1004 size=520 all=192537 active=11261 piece=떻게\n",
      "bpe_model_trainer.cc(258) LOG(INFO) Added: freq=970 size=540 all=194657 active=13381 piece=▁보다\n",
      "bpe_model_trainer.cc(258) LOG(INFO) Added: freq=946 size=560 all=196713 active=15437 piece=때문에\n",
      "bpe_model_trainer.cc(258) LOG(INFO) Added: freq=922 size=580 all=199537 active=18261 piece=▁시리즈\n",
      "bpe_model_trainer.cc(258) LOG(INFO) Added: freq=889 size=600 all=202409 active=21133 piece=▁내내\n",
      "bpe_model_trainer.cc(167) LOG(INFO) Updating active symbols. max_freq=888 min_freq=41\n",
      "bpe_model_trainer.cc(258) LOG(INFO) Added: freq=858 size=620 all=205074 active=12775 piece=▁천\n",
      "bpe_model_trainer.cc(258) LOG(INFO) Added: freq=834 size=640 all=206896 active=14597 piece=어야\n",
      "bpe_model_trainer.cc(258) LOG(INFO) Added: freq=809 size=660 all=208824 active=16525 piece=어도\n",
      "bpe_model_trainer.cc(258) LOG(INFO) Added: freq=783 size=680 all=211124 active=18825 piece=이네\n",
      "bpe_model_trainer.cc(258) LOG(INFO) Added: freq=754 size=700 all=212935 active=20636 piece=같다\n",
      "bpe_model_trainer.cc(167) LOG(INFO) Updating active symbols. max_freq=754 min_freq=38\n",
      "bpe_model_trainer.cc(258) LOG(INFO) Added: freq=739 size=720 all=214770 active=12306 piece=▁스토리가\n",
      "bpe_model_trainer.cc(258) LOG(INFO) Added: freq=716 size=740 all=216446 active=13982 piece=▁영화였\n",
      "bpe_model_trainer.cc(258) LOG(INFO) Added: freq=697 size=760 all=218154 active=15690 piece=나고\n",
      "bpe_model_trainer.cc(258) LOG(INFO) Added: freq=683 size=780 all=219727 active=17263 piece=▁이유\n",
      "bpe_model_trainer.cc(258) LOG(INFO) Added: freq=668 size=800 all=221534 active=19070 piece=▁된\n",
      "bpe_model_trainer.cc(167) LOG(INFO) Updating active symbols. max_freq=668 min_freq=36\n",
      "bpe_model_trainer.cc(258) LOG(INFO) Added: freq=654 size=820 all=222593 active=12110 piece=마다\n",
      "bpe_model_trainer.cc(258) LOG(INFO) Added: freq=644 size=840 all=223861 active=13378 piece=소리\n",
      "bpe_model_trainer.cc(258) LOG(INFO) Added: freq=626 size=860 all=225469 active=14986 piece=▁시나리오\n",
      "bpe_model_trainer.cc(258) LOG(INFO) Added: freq=605 size=880 all=227340 active=16857 piece=▁보세요\n",
      "bpe_model_trainer.cc(258) LOG(INFO) Added: freq=595 size=900 all=228333 active=17850 piece=▁기억에\n",
      "bpe_model_trainer.cc(167) LOG(INFO) Updating active symbols. max_freq=593 min_freq=34\n",
      "bpe_model_trainer.cc(258) LOG(INFO) Added: freq=584 size=920 all=229868 active=12948 piece=▁시대\n",
      "bpe_model_trainer.cc(258) LOG(INFO) Added: freq=575 size=940 all=231558 active=14638 piece=▁함께\n",
      "bpe_model_trainer.cc(258) LOG(INFO) Added: freq=553 size=960 all=233260 active=16340 piece=▁잡\n",
      "bpe_model_trainer.cc(258) LOG(INFO) Added: freq=537 size=980 all=234291 active=17371 piece=▁개인적으로\n",
      "bpe_model_trainer.cc(258) LOG(INFO) Added: freq=529 size=1000 all=235824 active=18904 piece=▁어떤\n",
      "bpe_model_trainer.cc(167) LOG(INFO) Updating active symbols. max_freq=528 min_freq=33\n",
      "bpe_model_trainer.cc(258) LOG(INFO) Added: freq=516 size=1020 all=237491 active=13386 piece=이버\n",
      "bpe_model_trainer.cc(258) LOG(INFO) Added: freq=502 size=1040 all=239112 active=15007 piece=길래\n",
      "bpe_model_trainer.cc(258) LOG(INFO) Added: freq=486 size=1060 all=240883 active=16778 piece=▁먼\n",
      "bpe_model_trainer.cc(258) LOG(INFO) Added: freq=479 size=1080 all=242114 active=18009 piece=▁볼수\n",
      "bpe_model_trainer.cc(258) LOG(INFO) Added: freq=470 size=1100 all=243454 active=19349 piece=▁눈물이\n",
      "bpe_model_trainer.cc(167) LOG(INFO) Updating active symbols. max_freq=470 min_freq=31\n",
      "bpe_model_trainer.cc(258) LOG(INFO) Added: freq=457 size=1120 all=244450 active=13146 piece=▁투\n",
      "bpe_model_trainer.cc(258) LOG(INFO) Added: freq=449 size=1140 all=245719 active=14415 piece=▁않았\n",
      "bpe_model_trainer.cc(258) LOG(INFO) Added: freq=440 size=1160 all=247020 active=15716 piece=이거\n",
      "bpe_model_trainer.cc(258) LOG(INFO) Added: freq=430 size=1180 all=248862 active=17558 piece=▁오글\n",
      "bpe_model_trainer.cc(258) LOG(INFO) Added: freq=421 size=1200 all=250339 active=19035 piece=성을\n",
      "bpe_model_trainer.cc(167) LOG(INFO) Updating active symbols. max_freq=421 min_freq=30\n",
      "bpe_model_trainer.cc(258) LOG(INFO) Added: freq=413 size=1220 all=251410 active=13483 piece=적이다\n",
      "bpe_model_trainer.cc(258) LOG(INFO) Added: freq=402 size=1240 all=253198 active=15271 piece=▁위해\n",
      "bpe_model_trainer.cc(258) LOG(INFO) Added: freq=396 size=1260 all=254221 active=16294 piece=▁재미는\n",
      "bpe_model_trainer.cc(258) LOG(INFO) Added: freq=386 size=1280 all=255538 active=17611 piece=것을\n",
      "bpe_model_trainer.cc(258) LOG(INFO) Added: freq=378 size=1300 all=257401 active=19474 piece=이라면\n",
      "bpe_model_trainer.cc(167) LOG(INFO) Updating active symbols. max_freq=378 min_freq=28\n",
      "bpe_model_trainer.cc(258) LOG(INFO) Added: freq=371 size=1320 all=259188 active=14524 piece=▁기다\n",
      "bpe_model_trainer.cc(258) LOG(INFO) Added: freq=364 size=1340 all=260543 active=15879 piece=▁배우들이\n",
      "bpe_model_trainer.cc(258) LOG(INFO) Added: freq=358 size=1360 all=261765 active=17101 piece=▁멋있\n",
      "bpe_model_trainer.cc(258) LOG(INFO) Added: freq=354 size=1380 all=263041 active=18377 piece=▁너무너무\n",
      "bpe_model_trainer.cc(258) LOG(INFO) Added: freq=348 size=1400 all=264475 active=19811 piece=나와\n",
      "bpe_model_trainer.cc(167) LOG(INFO) Updating active symbols. max_freq=348 min_freq=27\n",
      "bpe_model_trainer.cc(258) LOG(INFO) Added: freq=342 size=1420 all=265530 active=14104 piece=▁그대로\n",
      "bpe_model_trainer.cc(258) LOG(INFO) Added: freq=335 size=1440 all=266760 active=15334 piece=되고\n",
      "bpe_model_trainer.cc(258) LOG(INFO) Added: freq=330 size=1460 all=268239 active=16813 piece=하냐\n",
      "bpe_model_trainer.cc(258) LOG(INFO) Added: freq=323 size=1480 all=269298 active=17872 piece=▁어릴때\n",
      "bpe_model_trainer.cc(258) LOG(INFO) Added: freq=319 size=1500 all=270224 active=18798 piece=이라니\n",
      "bpe_model_trainer.cc(167) LOG(INFO) Updating active symbols. max_freq=318 min_freq=26\n",
      "bpe_model_trainer.cc(258) LOG(INFO) Added: freq=315 size=1520 all=271483 active=14583 piece=보다는\n",
      "bpe_model_trainer.cc(258) LOG(INFO) Added: freq=309 size=1540 all=272537 active=15637 piece=수있\n",
      "bpe_model_trainer.cc(258) LOG(INFO) Added: freq=305 size=1560 all=274186 active=17286 piece=봐야\n",
      "bpe_model_trainer.cc(258) LOG(INFO) Added: freq=300 size=1580 all=275529 active=18629 piece=거나\n",
      "bpe_model_trainer.cc(258) LOG(INFO) Added: freq=295 size=1600 all=276877 active=19977 piece=▁흥미진진\n",
      "bpe_model_trainer.cc(167) LOG(INFO) Updating active symbols. max_freq=294 min_freq=25\n",
      "bpe_model_trainer.cc(258) LOG(INFO) Added: freq=292 size=1620 all=277797 active=14729 piece=▁더럽게\n",
      "bpe_model_trainer.cc(258) LOG(INFO) Added: freq=288 size=1640 all=278855 active=15787 piece=▁어쩔\n",
      "bpe_model_trainer.cc(258) LOG(INFO) Added: freq=284 size=1660 all=280216 active=17148 piece=일까\n",
      "bpe_model_trainer.cc(258) LOG(INFO) Added: freq=280 size=1680 all=281351 active=18283 piece=▁겨\n",
      "bpe_model_trainer.cc(258) LOG(INFO) Added: freq=275 size=1700 all=282891 active=19823 piece=▁페\n",
      "bpe_model_trainer.cc(167) LOG(INFO) Updating active symbols. max_freq=275 min_freq=25\n",
      "bpe_model_trainer.cc(258) LOG(INFO) Added: freq=271 size=1720 all=283872 active=15080 piece=▁힘든\n",
      "bpe_model_trainer.cc(258) LOG(INFO) Added: freq=268 size=1740 all=284772 active=15980 piece=▁영화인\n",
      "bpe_model_trainer.cc(258) LOG(INFO) Added: freq=265 size=1760 all=285931 active=17138 piece=▁적당\n",
      "bpe_model_trainer.cc(258) LOG(INFO) Added: freq=262 size=1780 all=286903 active=18110 piece=지금\n",
      "bpe_model_trainer.cc(258) LOG(INFO) Added: freq=258 size=1800 all=287974 active=19181 piece=연출\n",
      "bpe_model_trainer.cc(167) LOG(INFO) Updating active symbols. max_freq=258 min_freq=24\n",
      "bpe_model_trainer.cc(258) LOG(INFO) Added: freq=255 size=1820 all=288853 active=15092 piece=기고\n",
      "bpe_model_trainer.cc(258) LOG(INFO) Added: freq=251 size=1840 all=290113 active=16352 piece=님이\n",
      "bpe_model_trainer.cc(258) LOG(INFO) Added: freq=248 size=1860 all=291223 active=17462 piece=이트\n",
      "bpe_model_trainer.cc(258) LOG(INFO) Added: freq=244 size=1880 all=292538 active=18777 piece=한듯\n",
      "bpe_model_trainer.cc(258) LOG(INFO) Added: freq=241 size=1900 all=293445 active=19684 piece=리아\n",
      "bpe_model_trainer.cc(167) LOG(INFO) Updating active symbols. max_freq=241 min_freq=23\n",
      "bpe_model_trainer.cc(258) LOG(INFO) Added: freq=237 size=1920 all=294561 active=15688 piece=▁별루\n",
      "bpe_model_trainer.cc(258) LOG(INFO) Added: freq=234 size=1940 all=295344 active=16471 piece=▁잘만든\n",
      "bpe_model_trainer.cc(258) LOG(INFO) Added: freq=231 size=1960 all=296368 active=17495 piece=역시\n",
      "bpe_model_trainer.cc(258) LOG(INFO) Added: freq=229 size=1980 all=297862 active=18989 piece=▁전문\n",
      "bpe_model_trainer.cc(258) LOG(INFO) Added: freq=227 size=2000 all=298780 active=19907 piece=▁진부한\n",
      "bpe_model_trainer.cc(167) LOG(INFO) Updating active symbols. max_freq=227 min_freq=23\n",
      "bpe_model_trainer.cc(258) LOG(INFO) Added: freq=224 size=2020 all=299766 active=15914 piece=이면\n",
      "bpe_model_trainer.cc(258) LOG(INFO) Added: freq=222 size=2040 all=300848 active=16996 piece=▁이상한\n",
      "bpe_model_trainer.cc(258) LOG(INFO) Added: freq=218 size=2060 all=301828 active=17976 piece=새끼\n",
      "bpe_model_trainer.cc(258) LOG(INFO) Added: freq=215 size=2080 all=302626 active=18774 piece=▁샤\n",
      "bpe_model_trainer.cc(258) LOG(INFO) Added: freq=212 size=2100 all=303321 active=19469 piece=인거\n",
      "bpe_model_trainer.cc(167) LOG(INFO) Updating active symbols. max_freq=212 min_freq=22\n",
      "bpe_model_trainer.cc(258) LOG(INFO) Added: freq=210 size=2120 all=304215 active=15913 piece=걸까\n",
      "bpe_model_trainer.cc(258) LOG(INFO) Added: freq=208 size=2140 all=305408 active=17106 piece=었나\n",
      "bpe_model_trainer.cc(258) LOG(INFO) Added: freq=206 size=2160 all=306613 active=18311 piece=▁아까워\n",
      "bpe_model_trainer.cc(258) LOG(INFO) Added: freq=204 size=2180 all=307731 active=19429 piece=인을\n",
      "bpe_model_trainer.cc(258) LOG(INFO) Added: freq=202 size=2200 all=308754 active=20452 piece=▁성공\n",
      "bpe_model_trainer.cc(167) LOG(INFO) Updating active symbols. max_freq=202 min_freq=21\n",
      "bpe_model_trainer.cc(258) LOG(INFO) Added: freq=200 size=2220 all=309740 active=16375 piece=하는지\n",
      "bpe_model_trainer.cc(258) LOG(INFO) Added: freq=198 size=2240 all=310610 active=17245 piece=▁매력이\n",
      "bpe_model_trainer.cc(258) LOG(INFO) Added: freq=196 size=2260 all=311640 active=18275 piece=자를\n",
      "bpe_model_trainer.cc(258) LOG(INFO) Added: freq=194 size=2280 all=312716 active=19351 piece=펑펑\n",
      "bpe_model_trainer.cc(258) LOG(INFO) Added: freq=193 size=2300 all=313631 active=20266 piece=▁아는\n",
      "bpe_model_trainer.cc(167) LOG(INFO) Updating active symbols. max_freq=193 min_freq=21\n",
      "bpe_model_trainer.cc(258) LOG(INFO) Added: freq=192 size=2320 all=314869 active=16894 piece=▁나왔으면\n",
      "bpe_model_trainer.cc(258) LOG(INFO) Added: freq=190 size=2340 all=315733 active=17758 piece=▁와닿\n",
      "bpe_model_trainer.cc(258) LOG(INFO) Added: freq=187 size=2360 all=316655 active=18680 piece=▁철학\n",
      "bpe_model_trainer.cc(258) LOG(INFO) Added: freq=186 size=2380 all=317632 active=19657 piece=▁아닐까\n",
      "bpe_model_trainer.cc(258) LOG(INFO) Added: freq=184 size=2400 all=318525 active=20550 piece=▁고전\n",
      "bpe_model_trainer.cc(167) LOG(INFO) Updating active symbols. max_freq=184 min_freq=20\n",
      "bpe_model_trainer.cc(258) LOG(INFO) Added: freq=183 size=2420 all=319291 active=16639 piece=▁짜증나는\n",
      "bpe_model_trainer.cc(258) LOG(INFO) Added: freq=181 size=2440 all=320226 active=17574 piece=▁상상력\n",
      "bpe_model_trainer.cc(258) LOG(INFO) Added: freq=179 size=2460 all=320985 active=18333 piece=순간\n",
      "bpe_model_trainer.cc(258) LOG(INFO) Added: freq=178 size=2480 all=321556 active=18904 piece=아주\n",
      "bpe_model_trainer.cc(258) LOG(INFO) Added: freq=177 size=2500 all=322334 active=19682 piece=사람이\n",
      "bpe_model_trainer.cc(167) LOG(INFO) Updating active symbols. max_freq=177 min_freq=20\n",
      "bpe_model_trainer.cc(258) LOG(INFO) Added: freq=175 size=2520 all=323046 active=16715 piece=래기\n",
      "bpe_model_trainer.cc(258) LOG(INFO) Added: freq=174 size=2540 all=323999 active=17668 piece=▁모습을\n",
      "bpe_model_trainer.cc(258) LOG(INFO) Added: freq=172 size=2560 all=324648 active=18317 piece=▁엘\n",
      "bpe_model_trainer.cc(258) LOG(INFO) Added: freq=171 size=2580 all=325397 active=19066 piece=▁아나\n",
      "bpe_model_trainer.cc(258) LOG(INFO) Added: freq=169 size=2600 all=325989 active=19658 piece=▁축\n",
      "bpe_model_trainer.cc(167) LOG(INFO) Updating active symbols. max_freq=169 min_freq=19\n",
      "bpe_model_trainer.cc(258) LOG(INFO) Added: freq=168 size=2620 all=326972 active=17262 piece=▁재밌네\n",
      "bpe_model_trainer.cc(258) LOG(INFO) Added: freq=167 size=2640 all=328276 active=18566 piece=▁만들어진\n",
      "bpe_model_trainer.cc(258) LOG(INFO) Added: freq=165 size=2660 all=329143 active=19433 piece=제목\n",
      "bpe_model_trainer.cc(258) LOG(INFO) Added: freq=164 size=2680 all=330038 active=20328 p"
     ]
    },
    {
     "name": "stdout",
     "output_type": "stream",
     "text": [
      "-rw-r--r-- 1 root root 373588 Dec 27 07:52 naver_review_spm_bpe.model\r\n",
      "-rw-r--r-- 1 root root 118784 Dec 27 07:52 naver_review_spm_bpe.vocab\r\n",
      "-rw-r--r-- 1 root root 378085 Dec 27 06:59 naver_review_spm.model\r\n",
      "-rw-r--r-- 1 root root 147373 Dec 27 06:59 naver_review_spm.vocab\r\n"
     ]
    }
   ],
   "source": [
    "import sentencepiece as spm\n",
    "import os\n",
    "temp_file = os.getenv('HOME')+'/aiffel/sp_tokenizer/data/korean-english-park.train.ko.temp'\n",
    "\n",
    "vocab_size = 8000\n",
    "\n",
    "with open(temp_file, 'w') as f:\n",
    "    for row in filtered_corpus:   # 이전에 나왔던 정제했던 corpus를 활용해서 진행해야 합니다.\n",
    "        f.write(str(row) + '\\n')\n",
    "\n",
    "# --model_type = 'bpe'\n",
    "spm.SentencePieceTrainer.Train(\n",
    "    '--input={} --model_type=bpe --model_prefix=naver_review_spm_bpe --vocab_size={}'.format(temp_file, vocab_size)    \n",
    ")\n",
    "\n",
    "!ls -l naver_review_spm*"
   ]
  },
  {
   "cell_type": "code",
   "execution_count": 181,
   "id": "2ec96432",
   "metadata": {},
   "outputs": [
    {
     "name": "stdout",
     "output_type": "stream",
     "text": [
      "[4693, 857, 6696, 6446, 1378, 6442, 6539, 6436, 0]\n",
      "['▁아버', '지가', '방', '에', '들어', '가', '신', '다', '.']\n",
      "아버지가방에들어가신다 ⁇ \n"
     ]
    }
   ],
   "source": [
    "# sentencepiece 모델이 잘 적용됐는지 확인해보기\n",
    "s_bpe = spm.SentencePieceProcessor() \n",
    "s_bpe.Load('naver_review_spm_bpe.model') # bpe 타입 model\n",
    "\n",
    "# SentencePiece를 활용한 sentence -> encoding\n",
    "tokensIDs = s_bpe.EncodeAsIds('아버지가방에들어가신다.')\n",
    "print(tokensIDs)\n",
    "\n",
    "# SentencePiece를 활용한 sentence -> encoded pieces\n",
    "print(s_bpe.SampleEncodeAsPieces('아버지가방에들어가신다.',1, 0.0))\n",
    "\n",
    "# SentencePiece를 활용한 encoding -> sentence 복원\n",
    "print(s_bpe.DecodeIds(tokensIDs))"
   ]
  },
  {
   "cell_type": "code",
   "execution_count": 183,
   "id": "ecf509be",
   "metadata": {},
   "outputs": [
    {
     "name": "stdout",
     "output_type": "stream",
     "text": [
      "(192100, 100)\n"
     ]
    }
   ],
   "source": [
    "tensor_bpe, word_index_bpe, index_word_bpe = sp_tokenize(s_bpe, data)\n",
    "print(tensor_bpe.shape)"
   ]
  },
  {
   "cell_type": "code",
   "execution_count": 184,
   "id": "838162d1",
   "metadata": {
    "scrolled": true
   },
   "outputs": [
    {
     "name": "stdout",
     "output_type": "stream",
     "text": [
      "(93682, 100)\n",
      "(93682,)\n",
      "(143682, 3)\n",
      "(143682, 100)\n",
      "(143682,)\n"
     ]
    }
   ],
   "source": [
    "# 데이터 분할\n",
    "X_train = tensor[:143682] \n",
    "X_test = tensor[143682:] # 146182 : 정규화 안했을때\n",
    "\n",
    "y_train = np.array(list(train_data['label']))\n",
    "y_test = np.array(list(test_data['label']))\n",
    "\n",
    "# validation set 50000건 분리\n",
    "X_val = X_train[:50000]   \n",
    "y_val = y_train[:50000]\n",
    "\n",
    "# validation set을 제외한 나머지 \n",
    "partial_X_train = X_train[50000:]  \n",
    "partial_y_train = y_train[50000:]\n",
    "\n",
    "print(partial_X_train.shape)\n",
    "print(partial_y_train.shape)\n",
    "print(train_data.shape)\n",
    "print(X_train.shape)\n",
    "print(y_train.shape)"
   ]
  },
  {
   "cell_type": "code",
   "execution_count": 185,
   "id": "506c99ad",
   "metadata": {},
   "outputs": [
    {
     "name": "stdout",
     "output_type": "stream",
     "text": [
      "Model: \"sequential_15\"\n",
      "_________________________________________________________________\n",
      "Layer (type)                 Output Shape              Param #   \n",
      "=================================================================\n",
      "embedding_15 (Embedding)     (None, None, 16)          160000    \n",
      "_________________________________________________________________\n",
      "lstm_15 (LSTM)               (None, 8)                 800       \n",
      "_________________________________________________________________\n",
      "dense_30 (Dense)             (None, 8)                 72        \n",
      "_________________________________________________________________\n",
      "dense_31 (Dense)             (None, 1)                 9         \n",
      "=================================================================\n",
      "Total params: 160,881\n",
      "Trainable params: 160,881\n",
      "Non-trainable params: 0\n",
      "_________________________________________________________________\n"
     ]
    }
   ],
   "source": [
    "vocab_size = 10000    # 어휘 사전의 크기입니다(10,000개의 단어)\n",
    "word_vector_dim = 16  # 워드 벡터의 차원 수 (변경 가능한 하이퍼파라미터)\n",
    "\n",
    "# model 설계\n",
    "model = tf.keras.Sequential()\n",
    "model.add(tf.keras.layers.Embedding(vocab_size, word_vector_dim, input_shape=(None,)))\n",
    "model.add(tf.keras.layers.LSTM(8))  \n",
    "model.add(tf.keras.layers.Dense(8, activation='relu'))\n",
    "model.add(tf.keras.layers.Dense(1, activation='sigmoid'))  # 최종 출력 : 긍정/부정\n",
    "\n",
    "model.summary()"
   ]
  },
  {
   "cell_type": "code",
   "execution_count": 186,
   "id": "3f3e65d8",
   "metadata": {},
   "outputs": [
    {
     "name": "stdout",
     "output_type": "stream",
     "text": [
      "Epoch 1/5\n",
      "183/183 [==============================] - 4s 12ms/step - loss: 0.5730 - accuracy: 0.7175 - val_loss: 0.4340 - val_accuracy: 0.8313\n",
      "Epoch 2/5\n",
      "183/183 [==============================] - 2s 9ms/step - loss: 0.3728 - accuracy: 0.8486 - val_loss: 0.3652 - val_accuracy: 0.8437\n",
      "Epoch 3/5\n",
      "183/183 [==============================] - 2s 8ms/step - loss: 0.3290 - accuracy: 0.8636 - val_loss: 0.3577 - val_accuracy: 0.8465\n",
      "Epoch 4/5\n",
      "183/183 [==============================] - 2s 9ms/step - loss: 0.3145 - accuracy: 0.8702 - val_loss: 0.3580 - val_accuracy: 0.8459\n",
      "Epoch 5/5\n",
      "183/183 [==============================] - 2s 9ms/step - loss: 0.3062 - accuracy: 0.8746 - val_loss: 0.3562 - val_accuracy: 0.8456\n"
     ]
    }
   ],
   "source": [
    "# 모델 훈련\n",
    "model.compile(optimizer='adam',\n",
    "              loss='binary_crossentropy',\n",
    "              metrics=['accuracy'])\n",
    "              \n",
    "epochs=5\n",
    "\n",
    "history = model.fit(partial_X_train,\n",
    "                    partial_y_train,\n",
    "                    epochs=epochs,\n",
    "                    batch_size=512,\n",
    "                    validation_data=(X_val, y_val),\n",
    "                    verbose=1)"
   ]
  },
  {
   "cell_type": "code",
   "execution_count": 187,
   "id": "b7837736",
   "metadata": {},
   "outputs": [
    {
     "name": "stdout",
     "output_type": "stream",
     "text": [
      "1514/1514 - 4s - loss: 0.3666 - accuracy: 0.8421\n",
      "[0.3665814995765686, 0.8421248197555542]\n"
     ]
    }
   ],
   "source": [
    "# 정규화를 진행 했을 때의 모델 성능 \n",
    "results = model.evaluate(X_test,  y_test, verbose=2)\n",
    "\n",
    "print(results)"
   ]
  },
  {
   "cell_type": "code",
   "execution_count": 188,
   "id": "6373a607",
   "metadata": {},
   "outputs": [
    {
     "name": "stdout",
     "output_type": "stream",
     "text": [
      "dict_keys(['loss', 'accuracy', 'val_loss', 'val_accuracy'])\n"
     ]
    }
   ],
   "source": [
    "history_dict = history.history\n",
    "print(history_dict.keys()) # epoch에 따른 그래프를 그려볼 수 있는 항목들"
   ]
  },
  {
   "cell_type": "code",
   "execution_count": 189,
   "id": "73bac59d",
   "metadata": {},
   "outputs": [
    {
     "data": {
      "image/png": "[encoded data removed]",
      "text/plain": [
       "<Figure size 432x288 with 1 Axes>"
      ]
     },
     "metadata": {
      "needs_background": "light"
     },
     "output_type": "display_data"
    }
   ],
   "source": [
    "# loss 시각화\n",
    "\n",
    "acc = history_dict['accuracy']\n",
    "val_acc = history_dict['val_accuracy']\n",
    "loss = history_dict['loss']\n",
    "val_loss = history_dict['val_loss']\n",
    "\n",
    "epochs = range(1, len(acc) + 1)\n",
    "\n",
    "# \"bo\"는 \"파란색 점\"\n",
    "plt.plot(epochs, loss, 'bo', label='Training loss')\n",
    "# b는 \"파란 실선\"\n",
    "plt.plot(epochs, val_loss, 'b', label='Validation loss')\n",
    "plt.title('Training and validation loss')\n",
    "plt.xlabel('Epochs')\n",
    "plt.ylabel('Loss')\n",
    "plt.legend()\n",
    "\n",
    "plt.show()"
   ]
  },
  {
   "cell_type": "code",
   "execution_count": 190,
   "id": "924f3872",
   "metadata": {},
   "outputs": [
    {
     "data": {
      "image/png": "[encoded data removed]",
      "text/plain": [
       "<Figure size 432x288 with 1 Axes>"
      ]
     },
     "metadata": {
      "needs_background": "light"
     },
     "output_type": "display_data"
    }
   ],
   "source": [
    "# accuracy 시각화\n",
    "plt.clf()   # 그림을 초기화\n",
    "\n",
    "plt.plot(epochs, acc, 'bo', label='Training acc')\n",
    "plt.plot(epochs, val_acc, 'b', label='Validation acc')\n",
    "plt.title('Training and validation accuracy')\n",
    "plt.xlabel('Epochs')\n",
    "plt.ylabel('Accuracy')\n",
    "plt.legend()\n",
    "\n",
    "plt.show()"
   ]
  },
  {
   "cell_type": "markdown",
   "id": "1a040569",
   "metadata": {},
   "source": [
    "### 실험 결과\n",
    "- SentencePiece UNIGRAM 타입: loss: 0.3705 - accuracy: 0.8411\n",
    "- KoNLPy 중 MeCab 적용 : loss: 0.3685 - accuracy: 0.8410\n",
    "- SentencePiece BPE 타입 : loss: 0.3666 - accuracy: 0.8421\n",
    "\n",
    "### 회고\n",
    "- tf.keras.preprocessing.sequence.pad_sequences(tensor, padding='pre', maxlen = 100)에서 padding을 pre 또는 post로 결정할 때, 어떤 걸로 결정하냐에 따라 성능 차이가 많이 나는 것을 확인할 수 있었음\n",
    "- 그루들과 함께 진행하는 동안 모델의 complexity를 높이면 성능 향상이 보이는 것을 확인 할 수 있었음\n"
   ]
  },
  {
   "cell_type": "code",
   "execution_count": null,
   "id": "79906477",
   "metadata": {},
   "outputs": [],
   "source": []
  }
 ],
 "metadata": {
  "kernelspec": {
   "display_name": "Python 3 (ipykernel)",
   "language": "python",
   "name": "python3"
  },
  "language_info": {
   "codemirror_mode": {
    "name": "ipython",
    "version": 3
   },
   "file_extension": ".py",
   "mimetype": "text/x-python",
   "name": "python",
   "nbconvert_exporter": "python",
   "pygments_lexer": "ipython3",
   "version": "3.9.7"
  }
 },
 "nbformat": 4,
 "nbformat_minor": 5
}
