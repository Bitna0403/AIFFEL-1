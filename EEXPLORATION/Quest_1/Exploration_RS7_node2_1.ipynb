{
 "cells": [
  {
   "cell_type": "code",
   "execution_count": 128,
   "id": "baba327b",
   "metadata": {},
   "outputs": [],
   "source": [
    "# https://dacon.io/en/codeshare/4429"
   ]
  },
  {
   "cell_type": "code",
   "execution_count": 129,
   "id": "45c0e76a",
   "metadata": {},
   "outputs": [],
   "source": [
    "from sklearn.datasets import load_diabetes\n",
    "from sklearn.model_selection import train_test_split\n",
    "diabetes = load_diabetes()\n",
    "df_X = diabetes.data\n",
    "df_Y = diabetes.target"
   ]
  },
  {
   "cell_type": "code",
   "execution_count": 130,
   "id": "2abc91fe",
   "metadata": {},
   "outputs": [
    {
     "data": {
      "text/plain": [
       "sklearn.utils.Bunch"
      ]
     },
     "execution_count": 130,
     "metadata": {},
     "output_type": "execute_result"
    }
   ],
   "source": [
    "type(diabetes)"
   ]
  },
  {
   "cell_type": "code",
   "execution_count": 131,
   "id": "7120b566",
   "metadata": {},
   "outputs": [
    {
     "data": {
      "text/plain": [
       "['DESCR',\n",
       " 'data',\n",
       " 'data_filename',\n",
       " 'data_module',\n",
       " 'feature_names',\n",
       " 'frame',\n",
       " 'target',\n",
       " 'target_filename']"
      ]
     },
     "execution_count": 131,
     "metadata": {},
     "output_type": "execute_result"
    }
   ],
   "source": [
    "dir(diabetes)"
   ]
  },
  {
   "cell_type": "code",
   "execution_count": 132,
   "id": "18614111",
   "metadata": {},
   "outputs": [
    {
     "name": "stdout",
     "output_type": "stream",
     "text": [
      ".. _diabetes_dataset:\n",
      "\n",
      "Diabetes dataset\n",
      "----------------\n",
      "\n",
      "Ten baseline variables, age, sex, body mass index, average blood\n",
      "pressure, and six blood serum measurements were obtained for each of n =\n",
      "442 diabetes patients, as well as the response of interest, a\n",
      "quantitative measure of disease progression one year after baseline.\n",
      "\n",
      "**Data Set Characteristics:**\n",
      "\n",
      "  :Number of Instances: 442\n",
      "\n",
      "  :Number of Attributes: First 10 columns are numeric predictive values\n",
      "\n",
      "  :Target: Column 11 is a quantitative measure of disease progression one year after baseline\n",
      "\n",
      "  :Attribute Information:\n",
      "      - age     age in years\n",
      "      - sex\n",
      "      - bmi     body mass index\n",
      "      - bp      average blood pressure\n",
      "      - s1      tc, total serum cholesterol\n",
      "      - s2      ldl, low-density lipoproteins\n",
      "      - s3      hdl, high-density lipoproteins\n",
      "      - s4      tch, total cholesterol / HDL\n",
      "      - s5      ltg, possibly log of serum triglycerides level\n",
      "      - s6      glu, blood sugar level\n",
      "\n",
      "Note: Each of these 10 feature variables have been mean centered and scaled by the standard deviation times `n_samples` (i.e. the sum of squares of each column totals 1).\n",
      "\n",
      "Source URL:\n",
      "https://www4.stat.ncsu.edu/~boos/var.select/diabetes.html\n",
      "\n",
      "For more information see:\n",
      "Bradley Efron, Trevor Hastie, Iain Johnstone and Robert Tibshirani (2004) \"Least Angle Regression,\" Annals of Statistics (with discussion), 407-499.\n",
      "(https://web.stanford.edu/~hastie/Papers/LARS/LeastAngle_2002.pdf)\n"
     ]
    }
   ],
   "source": [
    "print(diabetes.DESCR)"
   ]
  },
  {
   "cell_type": "code",
   "execution_count": 133,
   "id": "fdd7e04e",
   "metadata": {},
   "outputs": [
    {
     "data": {
      "text/plain": [
       "numpy.ndarray"
      ]
     },
     "execution_count": 133,
     "metadata": {},
     "output_type": "execute_result"
    }
   ],
   "source": [
    "type(df_X)"
   ]
  },
  {
   "cell_type": "code",
   "execution_count": 134,
   "id": "fe86587f",
   "metadata": {},
   "outputs": [
    {
     "data": {
      "text/plain": [
       "numpy.ndarray"
      ]
     },
     "execution_count": 134,
     "metadata": {},
     "output_type": "execute_result"
    }
   ],
   "source": [
    "type(df_Y)"
   ]
  },
  {
   "cell_type": "code",
   "execution_count": 135,
   "id": "01d8ca0c",
   "metadata": {},
   "outputs": [
    {
     "data": {
      "text/plain": [
       "array([[ 0.03807591,  0.05068012,  0.06169621, ..., -0.00259226,\n",
       "         0.01990842, -0.01764613],\n",
       "       [-0.00188202, -0.04464164, -0.05147406, ..., -0.03949338,\n",
       "        -0.06832974, -0.09220405],\n",
       "       [ 0.08529891,  0.05068012,  0.04445121, ..., -0.00259226,\n",
       "         0.00286377, -0.02593034],\n",
       "       ...,\n",
       "       [ 0.04170844,  0.05068012, -0.01590626, ..., -0.01107952,\n",
       "        -0.04687948,  0.01549073],\n",
       "       [-0.04547248, -0.04464164,  0.03906215, ...,  0.02655962,\n",
       "         0.04452837, -0.02593034],\n",
       "       [-0.04547248, -0.04464164, -0.0730303 , ..., -0.03949338,\n",
       "        -0.00421986,  0.00306441]])"
      ]
     },
     "execution_count": 135,
     "metadata": {},
     "output_type": "execute_result"
    }
   ],
   "source": [
    "df_X"
   ]
  },
  {
   "cell_type": "code",
   "execution_count": 136,
   "id": "bee19ad9",
   "metadata": {},
   "outputs": [
    {
     "data": {
      "text/plain": [
       "(442,)"
      ]
     },
     "execution_count": 136,
     "metadata": {},
     "output_type": "execute_result"
    }
   ],
   "source": [
    "df_Y.shape"
   ]
  },
  {
   "cell_type": "code",
   "execution_count": 137,
   "id": "e42df983",
   "metadata": {},
   "outputs": [],
   "source": [
    " X_train, X_test, y_train, y_test = train_test_split(df_X, df_Y, test_size = 0.2, random_state=42)"
   ]
  },
  {
   "cell_type": "code",
   "execution_count": 138,
   "id": "aa007041",
   "metadata": {},
   "outputs": [
    {
     "name": "stdout",
     "output_type": "stream",
     "text": [
      "(353, 10) (353,)\n"
     ]
    }
   ],
   "source": [
    "print(X_train.shape, y_train.shape)"
   ]
  },
  {
   "cell_type": "code",
   "execution_count": 139,
   "id": "b463a888",
   "metadata": {
    "scrolled": true
   },
   "outputs": [
    {
     "name": "stdout",
     "output_type": "stream",
     "text": [
      "[0.46815557 0.80576912 0.34446777 0.8498991  0.7729411  0.82208712\n",
      " 0.06680158 0.92559252 0.21588134 0.33489244]\n",
      "0.6655877760128361\n"
     ]
    }
   ],
   "source": [
    "import numpy as np\n",
    "W = np.random.rand(10) # features\n",
    "b = np.random.rand()\n",
    "print(W)\n",
    "print(b)"
   ]
  },
  {
   "cell_type": "code",
   "execution_count": 140,
   "id": "94442a59",
   "metadata": {},
   "outputs": [],
   "source": [
    "def model(df_X, W, b):\n",
    "    predictions = 0\n",
    "    for i in range(10):\n",
    "        predictions += df_X[:, i] * W[i]\n",
    "    predictions += b\n",
    "    return predictions\n"
   ]
  },
  {
   "cell_type": "code",
   "execution_count": 141,
   "id": "3dfec2b2",
   "metadata": {},
   "outputs": [],
   "source": [
    "def MSE(a,b):\n",
    "    mse = ((a - b)**2).mean()\n",
    "    return mse"
   ]
  },
  {
   "cell_type": "code",
   "execution_count": 142,
   "id": "676a0b9e",
   "metadata": {},
   "outputs": [],
   "source": [
    "def loss(df_X, W, b, df_Y):\n",
    "    predictions = model(df_X, W, b)\n",
    "    L = MSE(predictions, df_Y)\n",
    "    return L"
   ]
  },
  {
   "cell_type": "code",
   "execution_count": 143,
   "id": "4dc49f69",
   "metadata": {
    "scrolled": false
   },
   "outputs": [
    {
     "data": {
      "text/plain": [
       "array([[ 0.03807591,  0.05068012,  0.06169621, ..., -0.00259226,\n",
       "         0.01990842, -0.01764613],\n",
       "       [-0.00188202, -0.04464164, -0.05147406, ..., -0.03949338,\n",
       "        -0.06832974, -0.09220405],\n",
       "       [ 0.08529891,  0.05068012,  0.04445121, ..., -0.00259226,\n",
       "         0.00286377, -0.02593034],\n",
       "       ...,\n",
       "       [ 0.04170844,  0.05068012, -0.01590626, ..., -0.01107952,\n",
       "        -0.04687948,  0.01549073],\n",
       "       [-0.04547248, -0.04464164,  0.03906215, ...,  0.02655962,\n",
       "         0.04452837, -0.02593034],\n",
       "       [-0.04547248, -0.04464164, -0.0730303 , ..., -0.03949338,\n",
       "        -0.00421986,  0.00306441]])"
      ]
     },
     "execution_count": 143,
     "metadata": {},
     "output_type": "execute_result"
    }
   ],
   "source": [
    "df_X"
   ]
  },
  {
   "cell_type": "code",
   "execution_count": 144,
   "id": "038c752a",
   "metadata": {},
   "outputs": [],
   "source": [
    "def gradient(df_X, W, b, df_Y):\n",
    "    \n",
    "    N = len(df_Y)\n",
    "    \n",
    "    y_pred = model(df_X, W, b)\n",
    "    \n",
    "    dW = 1/N * 2* df_X.T.dot(y_pred - df_Y)\n",
    "    \n",
    "    db = 2*(y_pred - df_Y).mean()\n",
    "    return dW, db    "
   ]
  },
  {
   "cell_type": "code",
   "execution_count": 145,
   "id": "8944af97",
   "metadata": {},
   "outputs": [
    {
     "name": "stdout",
     "output_type": "stream",
     "text": [
      "[-1.36878592 -0.30798358 -4.28780217 -3.22453442 -1.54106975 -1.26262693\n",
      "  2.88511408 -3.14048681 -4.13495988 -2.79255382]\n",
      "-302.9357927737662\n"
     ]
    }
   ],
   "source": [
    "dW, db = gradient(df_X, W, b, df_Y)\n",
    "print(dW) \n",
    "print(db)"
   ]
  },
  {
   "cell_type": "code",
   "execution_count": 146,
   "id": "f21c6ae7",
   "metadata": {},
   "outputs": [],
   "source": [
    "learning_rate = 0.05"
   ]
  },
  {
   "cell_type": "code",
   "execution_count": 156,
   "id": "74df1b79",
   "metadata": {
    "scrolled": true
   },
   "outputs": [
    {
     "name": "stdout",
     "output_type": "stream",
     "text": [
      "Iteration 10 : Loss 2951.2478\n",
      "Iteration 20 : Loss 2951.0305\n",
      "Iteration 30 : Loss 2950.8141\n",
      "Iteration 40 : Loss 2950.5986\n",
      "Iteration 50 : Loss 2950.3842\n",
      "Iteration 60 : Loss 2950.1706\n",
      "Iteration 70 : Loss 2949.9581\n",
      "Iteration 80 : Loss 2949.7464\n",
      "Iteration 90 : Loss 2949.5357\n",
      "Iteration 100 : Loss 2949.3260\n",
      "Iteration 110 : Loss 2949.1172\n",
      "Iteration 120 : Loss 2948.9093\n",
      "Iteration 130 : Loss 2948.7023\n",
      "Iteration 140 : Loss 2948.4962\n",
      "Iteration 150 : Loss 2948.2911\n",
      "Iteration 160 : Loss 2948.0868\n",
      "Iteration 170 : Loss 2947.8835\n",
      "Iteration 180 : Loss 2947.6811\n",
      "Iteration 190 : Loss 2947.4795\n",
      "Iteration 200 : Loss 2947.2789\n",
      "Iteration 210 : Loss 2947.0791\n",
      "Iteration 220 : Loss 2946.8803\n",
      "Iteration 230 : Loss 2946.6823\n",
      "Iteration 240 : Loss 2946.4851\n",
      "Iteration 250 : Loss 2946.2889\n",
      "Iteration 260 : Loss 2946.0935\n",
      "Iteration 270 : Loss 2945.8990\n",
      "Iteration 280 : Loss 2945.7053\n",
      "Iteration 290 : Loss 2945.5125\n",
      "Iteration 300 : Loss 2945.3205\n",
      "Iteration 310 : Loss 2945.1294\n",
      "Iteration 320 : Loss 2944.9391\n",
      "Iteration 330 : Loss 2944.7497\n",
      "Iteration 340 : Loss 2944.5611\n",
      "Iteration 350 : Loss 2944.3733\n",
      "Iteration 360 : Loss 2944.1864\n",
      "Iteration 370 : Loss 2944.0003\n",
      "Iteration 380 : Loss 2943.8150\n",
      "Iteration 390 : Loss 2943.6305\n",
      "Iteration 400 : Loss 2943.4468\n",
      "Iteration 410 : Loss 2943.2639\n",
      "Iteration 420 : Loss 2943.0818\n",
      "Iteration 430 : Loss 2942.9006\n",
      "Iteration 440 : Loss 2942.7201\n",
      "Iteration 450 : Loss 2942.5404\n",
      "Iteration 460 : Loss 2942.3615\n",
      "Iteration 470 : Loss 2942.1834\n",
      "Iteration 480 : Loss 2942.0061\n",
      "Iteration 490 : Loss 2941.8295\n",
      "Iteration 500 : Loss 2941.6537\n",
      "Iteration 510 : Loss 2941.4787\n",
      "Iteration 520 : Loss 2941.3045\n",
      "Iteration 530 : Loss 2941.1310\n",
      "Iteration 540 : Loss 2940.9583\n",
      "Iteration 550 : Loss 2940.7863\n",
      "Iteration 560 : Loss 2940.6151\n",
      "Iteration 570 : Loss 2940.4446\n",
      "Iteration 580 : Loss 2940.2749\n",
      "Iteration 590 : Loss 2940.1059\n",
      "Iteration 600 : Loss 2939.9376\n",
      "Iteration 610 : Loss 2939.7701\n",
      "Iteration 620 : Loss 2939.6033\n",
      "Iteration 630 : Loss 2939.4373\n",
      "Iteration 640 : Loss 2939.2720\n",
      "Iteration 650 : Loss 2939.1073\n",
      "Iteration 660 : Loss 2938.9435\n",
      "Iteration 670 : Loss 2938.7803\n",
      "Iteration 680 : Loss 2938.6178\n",
      "Iteration 690 : Loss 2938.4560\n",
      "Iteration 700 : Loss 2938.2950\n",
      "Iteration 710 : Loss 2938.1346\n",
      "Iteration 720 : Loss 2937.9749\n",
      "Iteration 730 : Loss 2937.8160\n",
      "Iteration 740 : Loss 2937.6577\n",
      "Iteration 750 : Loss 2937.5001\n",
      "Iteration 760 : Loss 2937.3432\n",
      "Iteration 770 : Loss 2937.1870\n",
      "Iteration 780 : Loss 2937.0314\n",
      "Iteration 790 : Loss 2936.8765\n",
      "Iteration 800 : Loss 2936.7223\n",
      "Iteration 810 : Loss 2936.5688\n",
      "Iteration 820 : Loss 2936.4159\n",
      "Iteration 830 : Loss 2936.2637\n",
      "Iteration 840 : Loss 2936.1122\n",
      "Iteration 850 : Loss 2935.9613\n",
      "Iteration 860 : Loss 2935.8110\n",
      "Iteration 870 : Loss 2935.6615\n",
      "Iteration 880 : Loss 2935.5125\n",
      "Iteration 890 : Loss 2935.3642\n",
      "Iteration 900 : Loss 2935.2165\n",
      "Iteration 910 : Loss 2935.0695\n",
      "Iteration 920 : Loss 2934.9231\n",
      "Iteration 930 : Loss 2934.7774\n",
      "Iteration 940 : Loss 2934.6323\n",
      "Iteration 950 : Loss 2934.4877\n",
      "Iteration 960 : Loss 2934.3439\n",
      "Iteration 970 : Loss 2934.2006\n",
      "Iteration 980 : Loss 2934.0580\n",
      "Iteration 990 : Loss 2933.9159\n",
      "Iteration 1000 : Loss 2933.7745\n",
      "Iteration 1010 : Loss 2933.6337\n",
      "Iteration 1020 : Loss 2933.4935\n",
      "Iteration 1030 : Loss 2933.3539\n",
      "Iteration 1040 : Loss 2933.2149\n",
      "Iteration 1050 : Loss 2933.0765\n",
      "Iteration 1060 : Loss 2932.9387\n",
      "Iteration 1070 : Loss 2932.8015\n",
      "Iteration 1080 : Loss 2932.6649\n",
      "Iteration 1090 : Loss 2932.5288\n",
      "Iteration 1100 : Loss 2932.3934\n",
      "Iteration 1110 : Loss 2932.2585\n",
      "Iteration 1120 : Loss 2932.1242\n",
      "Iteration 1130 : Loss 2931.9905\n",
      "Iteration 1140 : Loss 2931.8573\n",
      "Iteration 1150 : Loss 2931.7248\n",
      "Iteration 1160 : Loss 2931.5927\n",
      "Iteration 1170 : Loss 2931.4613\n",
      "Iteration 1180 : Loss 2931.3304\n",
      "Iteration 1190 : Loss 2931.2001\n",
      "Iteration 1200 : Loss 2931.0703\n",
      "Iteration 1210 : Loss 2930.9411\n",
      "Iteration 1220 : Loss 2930.8125\n",
      "Iteration 1230 : Loss 2930.6843\n",
      "Iteration 1240 : Loss 2930.5568\n",
      "Iteration 1250 : Loss 2930.4298\n",
      "Iteration 1260 : Loss 2930.3033\n",
      "Iteration 1270 : Loss 2930.1773\n",
      "Iteration 1280 : Loss 2930.0519\n",
      "Iteration 1290 : Loss 2929.9271\n",
      "Iteration 1300 : Loss 2929.8027\n",
      "Iteration 1310 : Loss 2929.6789\n",
      "Iteration 1320 : Loss 2929.5557\n",
      "Iteration 1330 : Loss 2929.4329\n",
      "Iteration 1340 : Loss 2929.3107\n",
      "Iteration 1350 : Loss 2929.1890\n",
      "Iteration 1360 : Loss 2929.0678\n",
      "Iteration 1370 : Loss 2928.9471\n",
      "Iteration 1380 : Loss 2928.8269\n",
      "Iteration 1390 : Loss 2928.7073\n",
      "Iteration 1400 : Loss 2928.5881\n",
      "Iteration 1410 : Loss 2928.4695\n",
      "Iteration 1420 : Loss 2928.3513\n",
      "Iteration 1430 : Loss 2928.2337\n",
      "Iteration 1440 : Loss 2928.1166\n",
      "Iteration 1450 : Loss 2927.9999\n",
      "Iteration 1460 : Loss 2927.8838\n",
      "Iteration 1470 : Loss 2927.7681\n",
      "Iteration 1480 : Loss 2927.6529\n",
      "Iteration 1490 : Loss 2927.5383\n",
      "Iteration 1500 : Loss 2927.4241\n",
      "Iteration 1510 : Loss 2927.3104\n",
      "Iteration 1520 : Loss 2927.1971\n",
      "Iteration 1530 : Loss 2927.0844\n",
      "Iteration 1540 : Loss 2926.9721\n",
      "Iteration 1550 : Loss 2926.8603\n",
      "Iteration 1560 : Loss 2926.7490\n",
      "Iteration 1570 : Loss 2926.6381\n",
      "Iteration 1580 : Loss 2926.5277\n",
      "Iteration 1590 : Loss 2926.4178\n",
      "Iteration 1600 : Loss 2926.3083\n",
      "Iteration 1610 : Loss 2926.1993\n",
      "Iteration 1620 : Loss 2926.0908\n",
      "Iteration 1630 : Loss 2925.9827\n",
      "Iteration 1640 : Loss 2925.8750\n",
      "Iteration 1650 : Loss 2925.7679\n",
      "Iteration 1660 : Loss 2925.6611\n",
      "Iteration 1670 : Loss 2925.5548\n",
      "Iteration 1680 : Loss 2925.4490\n",
      "Iteration 1690 : Loss 2925.3436\n",
      "Iteration 1700 : Loss 2925.2387\n",
      "Iteration 1710 : Loss 2925.1342\n",
      "Iteration 1720 : Loss 2925.0301\n",
      "Iteration 1730 : Loss 2924.9265\n",
      "Iteration 1740 : Loss 2924.8233\n",
      "Iteration 1750 : Loss 2924.7205\n",
      "Iteration 1760 : Loss 2924.6182\n",
      "Iteration 1770 : Loss 2924.5163\n",
      "Iteration 1780 : Loss 2924.4148\n",
      "Iteration 1790 : Loss 2924.3137\n",
      "Iteration 1800 : Loss 2924.2131\n",
      "Iteration 1810 : Loss 2924.1129\n",
      "Iteration 1820 : Loss 2924.0131\n",
      "Iteration 1830 : Loss 2923.9137\n",
      "Iteration 1840 : Loss 2923.8148\n",
      "Iteration 1850 : Loss 2923.7162\n",
      "Iteration 1860 : Loss 2923.6181\n",
      "Iteration 1870 : Loss 2923.5204\n",
      "Iteration 1880 : Loss 2923.4231\n",
      "Iteration 1890 : Loss 2923.3261\n",
      "Iteration 1900 : Loss 2923.2296\n",
      "Iteration 1910 : Loss 2923.1335\n",
      "Iteration 1920 : Loss 2923.0378\n",
      "Iteration 1930 : Loss 2922.9425\n",
      "Iteration 1940 : Loss 2922.8476\n",
      "Iteration 1950 : Loss 2922.7531\n",
      "Iteration 1960 : Loss 2922.6590\n",
      "Iteration 1970 : Loss 2922.5653\n",
      "Iteration 1980 : Loss 2922.4719\n",
      "Iteration 1990 : Loss 2922.3790\n",
      "Iteration 2000 : Loss 2922.2864\n",
      "Iteration 2010 : Loss 2922.1942\n",
      "Iteration 2020 : Loss 2922.1024\n",
      "Iteration 2030 : Loss 2922.0110\n",
      "Iteration 2040 : Loss 2921.9200\n",
      "Iteration 2050 : Loss 2921.8293\n",
      "Iteration 2060 : Loss 2921.7390\n",
      "Iteration 2070 : Loss 2921.6491\n",
      "Iteration 2080 : Loss 2921.5596\n",
      "Iteration 2090 : Loss 2921.4704\n",
      "Iteration 2100 : Loss 2921.3816\n",
      "Iteration 2110 : Loss 2921.2932\n",
      "Iteration 2120 : Loss 2921.2051\n",
      "Iteration 2130 : Loss 2921.1174\n",
      "Iteration 2140 : Loss 2921.0300\n",
      "Iteration 2150 : Loss 2920.9431\n",
      "Iteration 2160 : Loss 2920.8564\n",
      "Iteration 2170 : Loss 2920.7702\n",
      "Iteration 2180 : Loss 2920.6843\n",
      "Iteration 2190 : Loss 2920.5987\n",
      "Iteration 2200 : Loss 2920.5135\n",
      "Iteration 2210 : Loss 2920.4287\n",
      "Iteration 2220 : Loss 2920.3442\n",
      "Iteration 2230 : Loss 2920.2600\n",
      "Iteration 2240 : Loss 2920.1762\n",
      "Iteration 2250 : Loss 2920.0927\n",
      "Iteration 2260 : Loss 2920.0096\n",
      "Iteration 2270 : Loss 2919.9268\n",
      "Iteration 2280 : Loss 2919.8444\n",
      "Iteration 2290 : Loss 2919.7623\n",
      "Iteration 2300 : Loss 2919.6806\n",
      "Iteration 2310 : Loss 2919.5991\n",
      "Iteration 2320 : Loss 2919.5180\n",
      "Iteration 2330 : Loss 2919.4373\n",
      "Iteration 2340 : Loss 2919.3569\n",
      "Iteration 2350 : Loss 2919.2768\n",
      "Iteration 2360 : Loss 2919.1970\n",
      "Iteration 2370 : Loss 2919.1175\n",
      "Iteration 2380 : Loss 2919.0384\n",
      "Iteration 2390 : Loss 2918.9596\n",
      "Iteration 2400 : Loss 2918.8812\n",
      "Iteration 2410 : Loss 2918.8030\n",
      "Iteration 2420 : Loss 2918.7252\n",
      "Iteration 2430 : Loss 2918.6477\n",
      "Iteration 2440 : Loss 2918.5705\n",
      "Iteration 2450 : Loss 2918.4936\n",
      "Iteration 2460 : Loss 2918.4170\n",
      "Iteration 2470 : Loss 2918.3408\n",
      "Iteration 2480 : Loss 2918.2648\n",
      "Iteration 2490 : Loss 2918.1892\n",
      "Iteration 2500 : Loss 2918.1139\n",
      "Iteration 2510 : Loss 2918.0388\n",
      "Iteration 2520 : Loss 2917.9641\n",
      "Iteration 2530 : Loss 2917.8897\n",
      "Iteration 2540 : Loss 2917.8156\n",
      "Iteration 2550 : Loss 2917.7418\n",
      "Iteration 2560 : Loss 2917.6683\n",
      "Iteration 2570 : Loss 2917.5951\n",
      "Iteration 2580 : Loss 2917.5222\n",
      "Iteration 2590 : Loss 2917.4496\n",
      "Iteration 2600 : Loss 2917.3772\n",
      "Iteration 2610 : Loss 2917.3052\n",
      "Iteration 2620 : Loss 2917.2335\n",
      "Iteration 2630 : Loss 2917.1620\n",
      "Iteration 2640 : Loss 2917.0909\n",
      "Iteration 2650 : Loss 2917.0200\n",
      "Iteration 2660 : Loss 2916.9495\n",
      "Iteration 2670 : Loss 2916.8792\n",
      "Iteration 2680 : Loss 2916.8092\n",
      "Iteration 2690 : Loss 2916.7394\n",
      "Iteration 2700 : Loss 2916.6700\n",
      "Iteration 2710 : Loss 2916.6008\n",
      "Iteration 2720 : Loss 2916.5319\n",
      "Iteration 2730 : Loss 2916.4633\n",
      "Iteration 2740 : Loss 2916.3950\n",
      "Iteration 2750 : Loss 2916.3270\n",
      "Iteration 2760 : Loss 2916.2592\n",
      "Iteration 2770 : Loss 2916.1917\n",
      "Iteration 2780 : Loss 2916.1244\n",
      "Iteration 2790 : Loss 2916.0575\n",
      "Iteration 2800 : Loss 2915.9908\n",
      "Iteration 2810 : Loss 2915.9244\n",
      "Iteration 2820 : Loss 2915.8582\n",
      "Iteration 2830 : Loss 2915.7923\n",
      "Iteration 2840 : Loss 2915.7267\n",
      "Iteration 2850 : Loss 2915.6613\n",
      "Iteration 2860 : Loss 2915.5962\n",
      "Iteration 2870 : Loss 2915.5314\n",
      "Iteration 2880 : Loss 2915.4668\n",
      "Iteration 2890 : Loss 2915.4025\n",
      "Iteration 2900 : Loss 2915.3384\n",
      "Iteration 2910 : Loss 2915.2746\n",
      "Iteration 2920 : Loss 2915.2111\n",
      "Iteration 2930 : Loss 2915.1478\n",
      "Iteration 2940 : Loss 2915.0848\n",
      "Iteration 2950 : Loss 2915.0220\n",
      "Iteration 2960 : Loss 2914.9594\n",
      "Iteration 2970 : Loss 2914.8971\n",
      "Iteration 2980 : Loss 2914.8351\n"
     ]
    },
    {
     "name": "stdout",
     "output_type": "stream",
     "text": [
      "Iteration 2990 : Loss 2914.7733\n",
      "Iteration 3000 : Loss 2914.7118\n",
      "Iteration 3010 : Loss 2914.6505\n",
      "Iteration 3020 : Loss 2914.5894\n",
      "Iteration 3030 : Loss 2914.5286\n",
      "Iteration 3040 : Loss 2914.4681\n",
      "Iteration 3050 : Loss 2914.4077\n",
      "Iteration 3060 : Loss 2914.3476\n",
      "Iteration 3070 : Loss 2914.2878\n",
      "Iteration 3080 : Loss 2914.2282\n",
      "Iteration 3090 : Loss 2914.1688\n",
      "Iteration 3100 : Loss 2914.1097\n",
      "Iteration 3110 : Loss 2914.0508\n",
      "Iteration 3120 : Loss 2913.9921\n",
      "Iteration 3130 : Loss 2913.9337\n",
      "Iteration 3140 : Loss 2913.8755\n",
      "Iteration 3150 : Loss 2913.8175\n",
      "Iteration 3160 : Loss 2913.7598\n",
      "Iteration 3170 : Loss 2913.7023\n",
      "Iteration 3180 : Loss 2913.6450\n",
      "Iteration 3190 : Loss 2913.5880\n",
      "Iteration 3200 : Loss 2913.5311\n",
      "Iteration 3210 : Loss 2913.4745\n",
      "Iteration 3220 : Loss 2913.4181\n",
      "Iteration 3230 : Loss 2913.3620\n",
      "Iteration 3240 : Loss 2913.3061\n",
      "Iteration 3250 : Loss 2913.2503\n",
      "Iteration 3260 : Loss 2913.1949\n",
      "Iteration 3270 : Loss 2913.1396\n",
      "Iteration 3280 : Loss 2913.0845\n",
      "Iteration 3290 : Loss 2913.0297\n",
      "Iteration 3300 : Loss 2912.9751\n",
      "Iteration 3310 : Loss 2912.9207\n",
      "Iteration 3320 : Loss 2912.8665\n",
      "Iteration 3330 : Loss 2912.8125\n",
      "Iteration 3340 : Loss 2912.7587\n",
      "Iteration 3350 : Loss 2912.7052\n",
      "Iteration 3360 : Loss 2912.6518\n",
      "Iteration 3370 : Loss 2912.5987\n",
      "Iteration 3380 : Loss 2912.5458\n",
      "Iteration 3390 : Loss 2912.4931\n",
      "Iteration 3400 : Loss 2912.4405\n",
      "Iteration 3410 : Loss 2912.3882\n",
      "Iteration 3420 : Loss 2912.3361\n",
      "Iteration 3430 : Loss 2912.2843\n",
      "Iteration 3440 : Loss 2912.2326\n",
      "Iteration 3450 : Loss 2912.1811\n",
      "Iteration 3460 : Loss 2912.1298\n",
      "Iteration 3470 : Loss 2912.0787\n",
      "Iteration 3480 : Loss 2912.0278\n",
      "Iteration 3490 : Loss 2911.9771\n",
      "Iteration 3500 : Loss 2911.9266\n",
      "Iteration 3510 : Loss 2911.8764\n",
      "Iteration 3520 : Loss 2911.8263\n",
      "Iteration 3530 : Loss 2911.7764\n",
      "Iteration 3540 : Loss 2911.7267\n",
      "Iteration 3550 : Loss 2911.6772\n",
      "Iteration 3560 : Loss 2911.6278\n",
      "Iteration 3570 : Loss 2911.5787\n",
      "Iteration 3580 : Loss 2911.5298\n",
      "Iteration 3590 : Loss 2911.4810\n",
      "Iteration 3600 : Loss 2911.4325\n",
      "Iteration 3610 : Loss 2911.3841\n",
      "Iteration 3620 : Loss 2911.3360\n",
      "Iteration 3630 : Loss 2911.2880\n",
      "Iteration 3640 : Loss 2911.2402\n",
      "Iteration 3650 : Loss 2911.1926\n",
      "Iteration 3660 : Loss 2911.1451\n",
      "Iteration 3670 : Loss 2911.0979\n",
      "Iteration 3680 : Loss 2911.0508\n",
      "Iteration 3690 : Loss 2911.0039\n",
      "Iteration 3700 : Loss 2910.9572\n",
      "Iteration 3710 : Loss 2910.9107\n",
      "Iteration 3720 : Loss 2910.8644\n",
      "Iteration 3730 : Loss 2910.8182\n",
      "Iteration 3740 : Loss 2910.7723\n",
      "Iteration 3750 : Loss 2910.7265\n",
      "Iteration 3760 : Loss 2910.6808\n",
      "Iteration 3770 : Loss 2910.6354\n",
      "Iteration 3780 : Loss 2910.5901\n",
      "Iteration 3790 : Loss 2910.5450\n",
      "Iteration 3800 : Loss 2910.5001\n",
      "Iteration 3810 : Loss 2910.4554\n",
      "Iteration 3820 : Loss 2910.4108\n",
      "Iteration 3830 : Loss 2910.3664\n",
      "Iteration 3840 : Loss 2910.3221\n",
      "Iteration 3850 : Loss 2910.2781\n",
      "Iteration 3860 : Loss 2910.2342\n",
      "Iteration 3870 : Loss 2910.1905\n",
      "Iteration 3880 : Loss 2910.1469\n",
      "Iteration 3890 : Loss 2910.1035\n",
      "Iteration 3900 : Loss 2910.0603\n",
      "Iteration 3910 : Loss 2910.0172\n",
      "Iteration 3920 : Loss 2909.9744\n",
      "Iteration 3930 : Loss 2909.9316\n",
      "Iteration 3940 : Loss 2909.8891\n",
      "Iteration 3950 : Loss 2909.8467\n",
      "Iteration 3960 : Loss 2909.8044\n",
      "Iteration 3970 : Loss 2909.7624\n",
      "Iteration 3980 : Loss 2909.7204\n",
      "Iteration 3990 : Loss 2909.6787\n",
      "Iteration 4000 : Loss 2909.6371\n",
      "Iteration 4010 : Loss 2909.5957\n",
      "Iteration 4020 : Loss 2909.5544\n",
      "Iteration 4030 : Loss 2909.5133\n",
      "Iteration 4040 : Loss 2909.4723\n",
      "Iteration 4050 : Loss 2909.4315\n",
      "Iteration 4060 : Loss 2909.3909\n",
      "Iteration 4070 : Loss 2909.3504\n",
      "Iteration 4080 : Loss 2909.3100\n",
      "Iteration 4090 : Loss 2909.2699\n",
      "Iteration 4100 : Loss 2909.2298\n",
      "Iteration 4110 : Loss 2909.1899\n",
      "Iteration 4120 : Loss 2909.1502\n",
      "Iteration 4130 : Loss 2909.1106\n",
      "Iteration 4140 : Loss 2909.0712\n",
      "Iteration 4150 : Loss 2909.0319\n",
      "Iteration 4160 : Loss 2908.9928\n",
      "Iteration 4170 : Loss 2908.9538\n",
      "Iteration 4180 : Loss 2908.9150\n",
      "Iteration 4190 : Loss 2908.8763\n",
      "Iteration 4200 : Loss 2908.8378\n",
      "Iteration 4210 : Loss 2908.7994\n",
      "Iteration 4220 : Loss 2908.7611\n",
      "Iteration 4230 : Loss 2908.7230\n",
      "Iteration 4240 : Loss 2908.6851\n",
      "Iteration 4250 : Loss 2908.6473\n",
      "Iteration 4260 : Loss 2908.6096\n",
      "Iteration 4270 : Loss 2908.5721\n",
      "Iteration 4280 : Loss 2908.5347\n",
      "Iteration 4290 : Loss 2908.4975\n",
      "Iteration 4300 : Loss 2908.4604\n",
      "Iteration 4310 : Loss 2908.4234\n",
      "Iteration 4320 : Loss 2908.3866\n",
      "Iteration 4330 : Loss 2908.3499\n",
      "Iteration 4340 : Loss 2908.3133\n",
      "Iteration 4350 : Loss 2908.2769\n",
      "Iteration 4360 : Loss 2908.2407\n",
      "Iteration 4370 : Loss 2908.2045\n",
      "Iteration 4380 : Loss 2908.1685\n",
      "Iteration 4390 : Loss 2908.1327\n",
      "Iteration 4400 : Loss 2908.0969\n",
      "Iteration 4410 : Loss 2908.0613\n",
      "Iteration 4420 : Loss 2908.0259\n",
      "Iteration 4430 : Loss 2907.9905\n",
      "Iteration 4440 : Loss 2907.9553\n",
      "Iteration 4450 : Loss 2907.9203\n",
      "Iteration 4460 : Loss 2907.8853\n",
      "Iteration 4470 : Loss 2907.8505\n",
      "Iteration 4480 : Loss 2907.8159\n",
      "Iteration 4490 : Loss 2907.7813\n",
      "Iteration 4500 : Loss 2907.7469\n",
      "Iteration 4510 : Loss 2907.7126\n",
      "Iteration 4520 : Loss 2907.6785\n",
      "Iteration 4530 : Loss 2907.6444\n",
      "Iteration 4540 : Loss 2907.6105\n",
      "Iteration 4550 : Loss 2907.5768\n",
      "Iteration 4560 : Loss 2907.5431\n",
      "Iteration 4570 : Loss 2907.5096\n",
      "Iteration 4580 : Loss 2907.4762\n",
      "Iteration 4590 : Loss 2907.4429\n",
      "Iteration 4600 : Loss 2907.4098\n",
      "Iteration 4610 : Loss 2907.3767\n",
      "Iteration 4620 : Loss 2907.3438\n",
      "Iteration 4630 : Loss 2907.3110\n",
      "Iteration 4640 : Loss 2907.2784\n",
      "Iteration 4650 : Loss 2907.2458\n",
      "Iteration 4660 : Loss 2907.2134\n",
      "Iteration 4670 : Loss 2907.1811\n",
      "Iteration 4680 : Loss 2907.1490\n",
      "Iteration 4690 : Loss 2907.1169\n",
      "Iteration 4700 : Loss 2907.0850\n",
      "Iteration 4710 : Loss 2907.0531\n",
      "Iteration 4720 : Loss 2907.0214\n",
      "Iteration 4730 : Loss 2906.9898\n",
      "Iteration 4740 : Loss 2906.9584\n",
      "Iteration 4750 : Loss 2906.9270\n",
      "Iteration 4760 : Loss 2906.8958\n",
      "Iteration 4770 : Loss 2906.8646\n",
      "Iteration 4780 : Loss 2906.8336\n",
      "Iteration 4790 : Loss 2906.8027\n",
      "Iteration 4800 : Loss 2906.7720\n",
      "Iteration 4810 : Loss 2906.7413\n",
      "Iteration 4820 : Loss 2906.7107\n",
      "Iteration 4830 : Loss 2906.6803\n",
      "Iteration 4840 : Loss 2906.6500\n",
      "Iteration 4850 : Loss 2906.6198\n",
      "Iteration 4860 : Loss 2906.5896\n",
      "Iteration 4870 : Loss 2906.5596\n",
      "Iteration 4880 : Loss 2906.5298\n",
      "Iteration 4890 : Loss 2906.5000\n",
      "Iteration 4900 : Loss 2906.4703\n",
      "Iteration 4910 : Loss 2906.4408\n",
      "Iteration 4920 : Loss 2906.4113\n",
      "Iteration 4930 : Loss 2906.3820\n",
      "Iteration 4940 : Loss 2906.3527\n",
      "Iteration 4950 : Loss 2906.3236\n",
      "Iteration 4960 : Loss 2906.2946\n",
      "Iteration 4970 : Loss 2906.2657\n",
      "Iteration 4980 : Loss 2906.2369\n",
      "Iteration 4990 : Loss 2906.2082\n",
      "Iteration 5000 : Loss 2906.1795\n"
     ]
    },
    {
     "data": {
      "image/png": "[encoded data removed]",
      "text/plain": [
       "<Figure size 432x288 with 1 Axes>"
      ]
     },
     "metadata": {
      "needs_background": "light"
     },
     "output_type": "display_data"
    }
   ],
   "source": [
    "losses = []\n",
    "\n",
    "for i in range(1, 3001):\n",
    "    dW, db = gradient(X_train, W, b, y_train)\n",
    "    W -= learning_rate * dW\n",
    "    b -= learning_rate * db\n",
    "    L = loss(X_train, W, b, y_train)\n",
    "    losses.append(L)\n",
    "    if i % 10 == 0:\n",
    "        print('Iteration %d : Loss %0.4f' % (i, L))\n",
    "\n",
    "import matplotlib.pyplot as plt\n",
    "plt.plot(losses)\n",
    "plt.show()"
   ]
  },
  {
   "cell_type": "code",
   "execution_count": 157,
   "id": "90d6bfd5",
   "metadata": {
    "scrolled": true
   },
   "outputs": [
    {
     "data": {
      "text/plain": [
       "(array([  40.27791669, -216.71381282,  525.21909321,  331.51430447,\n",
       "         -79.04587016, -125.43683518, -217.84531978,  144.9223871 ,\n",
       "         387.63257682,  100.448142  ]),\n",
       " 151.33952004137754)"
      ]
     },
     "execution_count": 157,
     "metadata": {},
     "output_type": "execute_result"
    }
   ],
   "source": [
    "W, b"
   ]
  },
  {
   "cell_type": "code",
   "execution_count": 158,
   "id": "121f9384",
   "metadata": {},
   "outputs": [
    {
     "data": {
      "text/plain": [
       "2870.6548280224097"
      ]
     },
     "execution_count": 158,
     "metadata": {},
     "output_type": "execute_result"
    }
   ],
   "source": [
    "prediction = model(X_test, W, b)\n",
    "mse = loss(X_test, W, b, y_test)\n",
    "mse"
   ]
  },
  {
   "cell_type": "code",
   "execution_count": 150,
   "id": "68764b05",
   "metadata": {
    "scrolled": true
   },
   "outputs": [
    {
     "name": "stdout",
     "output_type": "stream",
     "text": [
      "(89, 10) (89,)\n"
     ]
    }
   ],
   "source": [
    "print(X_test.shape, y_test.shape)"
   ]
  },
  {
   "cell_type": "code",
   "execution_count": 151,
   "id": "87c61b42",
   "metadata": {},
   "outputs": [
    {
     "data": {
      "image/png": "[encoded data removed]",
      "text/plain": [
       "<Figure size 432x288 with 1 Axes>"
      ]
     },
     "metadata": {
      "needs_background": "light"
     },
     "output_type": "display_data"
    }
   ],
   "source": [
    "plt.scatter(X_test[:, 0], y_test, label='Actual Data')\n",
    "plt.scatter(X_test[:, 0], prediction, label='Predicted Data')\n",
    "plt.legend()\n",
    "plt.show()"
   ]
  },
  {
   "cell_type": "code",
   "execution_count": null,
   "id": "01afca73",
   "metadata": {},
   "outputs": [],
   "source": []
  },
  {
   "cell_type": "code",
   "execution_count": 152,
   "id": "d4e150e8",
   "metadata": {},
   "outputs": [
    {
     "data": {
      "text/html": [
       "<div>\n",
       "<style scoped>\n",
       "    .dataframe tbody tr th:only-of-type {\n",
       "        vertical-align: middle;\n",
       "    }\n",
       "\n",
       "    .dataframe tbody tr th {\n",
       "        vertical-align: top;\n",
       "    }\n",
       "\n",
       "    .dataframe thead th {\n",
       "        text-align: right;\n",
       "    }\n",
       "</style>\n",
       "<table border=\"1\" class=\"dataframe\">\n",
       "  <thead>\n",
       "    <tr style=\"text-align: right;\">\n",
       "      <th></th>\n",
       "      <th>age</th>\n",
       "      <th>sex</th>\n",
       "      <th>bmi</th>\n",
       "      <th>bp</th>\n",
       "      <th>s1</th>\n",
       "      <th>s2</th>\n",
       "      <th>s3</th>\n",
       "      <th>s4</th>\n",
       "      <th>s5</th>\n",
       "      <th>s6</th>\n",
       "      <th>target</th>\n",
       "    </tr>\n",
       "  </thead>\n",
       "  <tbody>\n",
       "    <tr>\n",
       "      <th>0</th>\n",
       "      <td>0.038076</td>\n",
       "      <td>0.050680</td>\n",
       "      <td>0.061696</td>\n",
       "      <td>0.021872</td>\n",
       "      <td>-0.044223</td>\n",
       "      <td>-0.034821</td>\n",
       "      <td>-0.043401</td>\n",
       "      <td>-0.002592</td>\n",
       "      <td>0.019908</td>\n",
       "      <td>-0.017646</td>\n",
       "      <td>151.0</td>\n",
       "    </tr>\n",
       "    <tr>\n",
       "      <th>1</th>\n",
       "      <td>-0.001882</td>\n",
       "      <td>-0.044642</td>\n",
       "      <td>-0.051474</td>\n",
       "      <td>-0.026328</td>\n",
       "      <td>-0.008449</td>\n",
       "      <td>-0.019163</td>\n",
       "      <td>0.074412</td>\n",
       "      <td>-0.039493</td>\n",
       "      <td>-0.068330</td>\n",
       "      <td>-0.092204</td>\n",
       "      <td>75.0</td>\n",
       "    </tr>\n",
       "    <tr>\n",
       "      <th>2</th>\n",
       "      <td>0.085299</td>\n",
       "      <td>0.050680</td>\n",
       "      <td>0.044451</td>\n",
       "      <td>-0.005671</td>\n",
       "      <td>-0.045599</td>\n",
       "      <td>-0.034194</td>\n",
       "      <td>-0.032356</td>\n",
       "      <td>-0.002592</td>\n",
       "      <td>0.002864</td>\n",
       "      <td>-0.025930</td>\n",
       "      <td>141.0</td>\n",
       "    </tr>\n",
       "    <tr>\n",
       "      <th>3</th>\n",
       "      <td>-0.089063</td>\n",
       "      <td>-0.044642</td>\n",
       "      <td>-0.011595</td>\n",
       "      <td>-0.036656</td>\n",
       "      <td>0.012191</td>\n",
       "      <td>0.024991</td>\n",
       "      <td>-0.036038</td>\n",
       "      <td>0.034309</td>\n",
       "      <td>0.022692</td>\n",
       "      <td>-0.009362</td>\n",
       "      <td>206.0</td>\n",
       "    </tr>\n",
       "    <tr>\n",
       "      <th>4</th>\n",
       "      <td>0.005383</td>\n",
       "      <td>-0.044642</td>\n",
       "      <td>-0.036385</td>\n",
       "      <td>0.021872</td>\n",
       "      <td>0.003935</td>\n",
       "      <td>0.015596</td>\n",
       "      <td>0.008142</td>\n",
       "      <td>-0.002592</td>\n",
       "      <td>-0.031991</td>\n",
       "      <td>-0.046641</td>\n",
       "      <td>135.0</td>\n",
       "    </tr>\n",
       "  </tbody>\n",
       "</table>\n",
       "</div>"
      ],
      "text/plain": [
       "        age       sex       bmi        bp        s1        s2        s3  \\\n",
       "0  0.038076  0.050680  0.061696  0.021872 -0.044223 -0.034821 -0.043401   \n",
       "1 -0.001882 -0.044642 -0.051474 -0.026328 -0.008449 -0.019163  0.074412   \n",
       "2  0.085299  0.050680  0.044451 -0.005671 -0.045599 -0.034194 -0.032356   \n",
       "3 -0.089063 -0.044642 -0.011595 -0.036656  0.012191  0.024991 -0.036038   \n",
       "4  0.005383 -0.044642 -0.036385  0.021872  0.003935  0.015596  0.008142   \n",
       "\n",
       "         s4        s5        s6  target  \n",
       "0 -0.002592  0.019908 -0.017646   151.0  \n",
       "1 -0.039493 -0.068330 -0.092204    75.0  \n",
       "2 -0.002592  0.002864 -0.025930   141.0  \n",
       "3  0.034309  0.022692 -0.009362   206.0  \n",
       "4 -0.002592 -0.031991 -0.046641   135.0  "
      ]
     },
     "execution_count": 152,
     "metadata": {},
     "output_type": "execute_result"
    }
   ],
   "source": [
    "import pandas as pd\n",
    "diabetes_df = pd.DataFrame(data=diabetes.data, columns=diabetes.feature_names)\n",
    "diabetes_df['target'] = diabetes.target\n",
    "diabetes_df.head()"
   ]
  },
  {
   "cell_type": "code",
   "execution_count": null,
   "id": "d062c0e3",
   "metadata": {},
   "outputs": [],
   "source": []
  },
  {
   "cell_type": "code",
   "execution_count": null,
   "id": "f2cd0174",
   "metadata": {},
   "outputs": [],
   "source": []
  }
 ],
 "metadata": {
  "kernelspec": {
   "display_name": "Python 3 (ipykernel)",
   "language": "python",
   "name": "python3"
  },
  "language_info": {
   "codemirror_mode": {
    "name": "ipython",
    "version": 3
   },
   "file_extension": ".py",
   "mimetype": "text/x-python",
   "name": "python",
   "nbconvert_exporter": "python",
   "pygments_lexer": "ipython3",
   "version": "3.9.7"
  }
 },
 "nbformat": 4,
 "nbformat_minor": 5
}
